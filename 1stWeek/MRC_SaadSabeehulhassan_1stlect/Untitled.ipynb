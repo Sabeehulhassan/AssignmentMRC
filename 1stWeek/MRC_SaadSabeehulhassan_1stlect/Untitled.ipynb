{
 "cells": [
  {
   "cell_type": "code",
   "execution_count": 2,
   "metadata": {
    "collapsed": false
   },
   "outputs": [],
   "source": [
    "import numpy as np\n",
    "from numpy.linalg import*\n",
    "import sympy.physics.mechanics as spm\n",
    "from sympy.physics.mechanics import ReferenceFrame, Vector\n",
    "x1=np.radians(-28.647)\n",
    "x2=np.radians(-13.215)\n",
    "x3=np.radians(90)\n",
    "x4=np.radians(28.647)\n",
    "\n",
    "#//////////////////////////////////////////////////////////////\n",
    "C = ReferenceFrame('C')\n",
    "P = C.orientnew('P', 'Axis', [x1, C.y])\n",
    "rot_pc_1 = C.dcm(P)\n",
    "tansl_pc_1=np.array([[1.124],[-0.060],[0.473]])\n",
    "transf_pc_1=np.hstack([rot_pc_1,tansl_pc_1])\n",
    "final_transf_pc=np.vstack([transf_pc_1,[0,0,0,1]])\n",
    "\n",
    "#//////////////////////////////////////////////////////////////\n",
    "\n",
    "B = ReferenceFrame('B')\n",
    "C = B.orientnew('C', 'Axis', [x1, B.y])\n",
    "rot_cb_1 = B.dcm(C)\n",
    "tansl_cb_1=np.array([[1.533],[-0.354],[0.197]])\n",
    "transf_cb_1=np.hstack([rot_cb_1,tansl_cb_1])\n",
    "final_transf_cb=np.vstack([transf_cb_1,[0,0,0,1]])\n",
    "\n",
    "\n",
    "#///////////////////////////////////////////////////////////////////\n",
    "\n",
    "E = ReferenceFrame('E')\n",
    "B = E.orientnew('B', 'Axis', [x3, E.y])\n",
    "rot_eb_1 = E.dcm(B)\n",
    "tansl_eb_1=np.array([[0.679],[-0.019],[0.445]])\n",
    "transf_eb_1=np.hstack([rot_eb_1,tansl_eb_1])\n",
    "final_transf_eb=np.vstack([transf_eb_1,[0,0,0,1]])\n",
    "\n",
    "#/////////////////////////////////////////////////////////////////////\n",
    "inv_final_transf_eb=inv(final_transf_eb)\n",
    "\n",
    "#/////////////////////////////////////////////////////////////////////\n",
    "final_transf_pe1=np.dot(final_transf_cb,final_transf_pc)\n",
    "final_transf_pe=np.dot(inv_final_transf_eb,final_transf_pe1)"
   ]
  },
  {
   "cell_type": "code",
   "execution_count": 3,
   "metadata": {
    "collapsed": false
   },
   "outputs": [
    {
     "data": {
      "text/plain": [
       "array([[-0.841454203497244, 0, -0.540328440318311, -0.705959060548151],\n",
       "       [0, 1.00000000000000, 0, -0.395000000000000],\n",
       "       [0.540328440318311, 0, -0.841454203497244, 1.61364933409968],\n",
       "       [0, 0, 0, 1.00000000000000]], dtype=object)"
      ]
     },
     "execution_count": 3,
     "metadata": {},
     "output_type": "execute_result"
    }
   ],
   "source": [
    "final_transf_pe"
   ]
  },
  {
   "cell_type": "code",
   "execution_count": null,
   "metadata": {
    "collapsed": true
   },
   "outputs": [],
   "source": []
  },
  {
   "cell_type": "code",
   "execution_count": null,
   "metadata": {
    "collapsed": true
   },
   "outputs": [],
   "source": []
  }
 ],
 "metadata": {
  "kernelspec": {
   "display_name": "Python 2",
   "language": "python",
   "name": "python2"
  },
  "language_info": {
   "codemirror_mode": {
    "name": "ipython",
    "version": 2
   },
   "file_extension": ".py",
   "mimetype": "text/x-python",
   "name": "python",
   "nbconvert_exporter": "python",
   "pygments_lexer": "ipython2",
   "version": "2.7.10"
  }
 },
 "nbformat": 4,
 "nbformat_minor": 0
}
