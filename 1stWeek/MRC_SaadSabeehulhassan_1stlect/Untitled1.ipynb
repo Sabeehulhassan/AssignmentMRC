{
 "cells": [
  {
   "cell_type": "code",
   "execution_count": 1,
   "metadata": {
    "collapsed": true
   },
   "outputs": [],
   "source": [
    "import  numpy as np    \n",
    "x1=np.radians(-28.647)\n",
    "x2=np.radians(-13.215)\n",
    "x3=np.radians(90)\n",
    "x4=np.radians(28.647)\n",
    "    # <your code here>\n",
    "\n",
    "rot_dc1 = np.array([[np.cos(x2),-np.sin(x2),0],[np.sin(x2),np.cos(x2),0],[0,0,1]])\n",
    "rot_dc2 = np.array([[np.cos(x1),0,np.sin(x1)],[0,1,0],[-np.sin(x1),0,np.cos(x1)]])\n",
    "rot_dc = np.dot(rot_dc1,rot_dc2)\n",
    "tansl_dc=np.array([[1.533],[-0.354],[0.197]])\n",
    "transf_dc=np.hstack([rot_dc,tansl_dc])\n",
    "final_transf_cd=np.vstack([transf_dc,[0,0,0,1]])\n",
    "\n",
    "\n",
    "#C relative to B\n",
    "\n",
    "rot_cb = np.array([[np.cos(x1),0,np.sin(x1)],[0,1,0],[-np.sin(x1),0,np.cos(x1)]])\n",
    "tansl_cb=np.array([[1.533],[-0.354],[0.197]])\n",
    "transf_cb=np.hstack([rot_cb,tansl_cb])\n",
    "final_transf_cb=np.vstack([transf_cb,[0,0,0,1]])\n",
    "\n",
    "\n",
    "#Final transform BDT.\n",
    "\n",
    "final_transf_db=np.dot(final_transf_cd,final_transf_cb)\n",
    "#    return final_transf_db"
   ]
  },
  {
   "cell_type": "code",
   "execution_count": null,
   "metadata": {
    "collapsed": true
   },
   "outputs": [],
   "source": []
  },
  {
   "cell_type": "code",
   "execution_count": 2,
   "metadata": {
    "collapsed": false
   },
   "outputs": [
    {
     "data": {
      "text/plain": [
       "array([[ 0.52602005,  0.22860574, -0.81917173,  2.66984989],\n",
       "       [-0.12352219,  0.97351909,  0.19236126, -0.98458899],\n",
       "       [ 0.8414542 ,  0.        ,  0.54032844,  1.10482369],\n",
       "       [ 0.        ,  0.        ,  0.        ,  1.        ]])"
      ]
     },
     "execution_count": 2,
     "metadata": {},
     "output_type": "execute_result"
    }
   ],
   "source": [
    "final_transf_db"
   ]
  },
  {
   "cell_type": "code",
   "execution_count": null,
   "metadata": {
    "collapsed": true
   },
   "outputs": [],
   "source": []
  }
 ],
 "metadata": {
  "kernelspec": {
   "display_name": "Python 2",
   "language": "python",
   "name": "python2"
  },
  "language_info": {
   "codemirror_mode": {
    "name": "ipython",
    "version": 2
   },
   "file_extension": ".py",
   "mimetype": "text/x-python",
   "name": "python",
   "nbconvert_exporter": "python",
   "pygments_lexer": "ipython2",
   "version": "2.7.10"
  }
 },
 "nbformat": 4,
 "nbformat_minor": 0
}
