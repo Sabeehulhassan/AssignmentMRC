{
 "cells": [
  {
   "cell_type": "code",
   "execution_count": 1,
   "metadata": {
    "collapsed": false
   },
   "outputs": [],
   "source": [
    "import numpy as np\n",
    "from numpy.linalg import*\n",
    "x1=np.radians(-28.647)\n",
    "x2=np.radians(-13.215)\n",
    "x3=np.radians(90)\n",
    "x4=np.radians(28.647)    \n",
    "\n",
    "#P relative to C\n",
    "rot_pc = np.array([[np.cos(x1),0,np.sin(x1)],[0,1,0],[-np.sin(x1),0,np.cos(x1)]])\n",
    "tansl_pc=np.array([[1.124],[-0.060],[0.473]])\n",
    "transf_pc=np.hstack([rot_pc,tansl_pc])\n",
    "final_transf_pc=np.vstack([transf_pc,[0,0,0,1]])\n",
    "\n",
    "\n",
    "#C relative to B\n",
    "\n",
    "rot_cb = np.array([[np.cos(x1),0,np.sin(x1)],[0,1,0],[-np.sin(x1),0,np.cos(x1)]])\n",
    "tansl_cb=np.array([[1.533],[-0.354],[0.197]])\n",
    "transf_cb=np.hstack([rot_cb,tansl_cb])\n",
    "final_transf_cb=np.vstack([transf_cb,[0,0,0,1]])\n",
    "\n",
    "\n",
    "#E relative to B\n",
    "\n",
    "rot_eb = np.array([[np.cos(x3),0,np.sin(x3)],[0,1,0],[-np.sin(x3),0,np.cos(x3)]])\n",
    "tansl_eb=np.array([[0.679],[-0.019],[0.445]])\n",
    "transf_eb=np.hstack([rot_eb,tansl_eb])\n",
    "final_transf_eb=np.vstack([transf_eb,[0,0,0,1]])\n",
    "\n",
    "\n",
    "#Inverse of Transformation from E relative to B\n",
    "\n",
    "inv_final_transf_eb=inv(final_transf_eb)\n",
    "\n",
    "\n",
    "#P relative to E\n",
    "final_transf_pe1=np.dot(final_transf_cb,final_transf_pc)\n",
    "final_transf_pe=np.dot(inv_final_transf_eb,final_transf_pe1)"
   ]
  },
  {
   "cell_type": "code",
   "execution_count": 2,
   "metadata": {
    "collapsed": false
   },
   "outputs": [
    {
     "data": {
      "text/plain": [
       "array([[-0.8414542 ,  0.        , -0.54032844, -0.70595906],\n",
       "       [ 0.        ,  1.        ,  0.        , -0.395     ],\n",
       "       [ 0.54032844,  0.        , -0.8414542 ,  1.61364933],\n",
       "       [ 0.        ,  0.        ,  0.        ,  1.        ]])"
      ]
     },
     "execution_count": 2,
     "metadata": {},
     "output_type": "execute_result"
    }
   ],
   "source": [
    "final_transf_pe"
   ]
  },
  {
   "cell_type": "code",
   "execution_count": null,
   "metadata": {
    "collapsed": true
   },
   "outputs": [],
   "source": []
  }
 ],
 "metadata": {
  "kernelspec": {
   "display_name": "Python 2",
   "language": "python",
   "name": "python2"
  },
  "language_info": {
   "codemirror_mode": {
    "name": "ipython",
    "version": 2
   },
   "file_extension": ".py",
   "mimetype": "text/x-python",
   "name": "python",
   "nbconvert_exporter": "python",
   "pygments_lexer": "ipython2",
   "version": "2.7.10"
  }
 },
 "nbformat": 4,
 "nbformat_minor": 0
}
