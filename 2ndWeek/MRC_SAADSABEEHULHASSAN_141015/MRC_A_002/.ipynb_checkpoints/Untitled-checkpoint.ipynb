{
 "cells": [
  {
   "cell_type": "code",
   "execution_count": 1,
   "metadata": {
    "collapsed": false
   },
   "outputs": [],
   "source": [
    "import numpy as np\n",
    "from scipy import spatial\n",
    "import numpy\n",
    "import matplotlib\n",
    "from matplotlib import pylab, mlab, pyplot\n",
    "np = numpy\n",
    "plt = pyplot\n",
    "\n",
    "from IPython.display import display\n",
    "from IPython.core.pylabtools import figsize, getfigs\n",
    "import IPython\n",
    "\n",
    "from pylab import *\n",
    "from numpy import *"
   ]
  },
  {
   "cell_type": "code",
   "execution_count": 2,
   "metadata": {
    "collapsed": false,
    "scrolled": true
   },
   "outputs": [
    {
     "data": {
      "text/plain": [
       "(219435, 3)"
      ]
     },
     "execution_count": 2,
     "metadata": {},
     "output_type": "execute_result"
    }
   ],
   "source": [
    "x = np.loadtxt('/home/sabeeh/Desktop/MRC_A_002/data/cloud.asc')\n",
    "x.shape"
   ]
  },
  {
   "cell_type": "code",
   "execution_count": 11,
   "metadata": {
    "collapsed": false
   },
   "outputs": [],
   "source": [
    "i= x[0:100, ]\n",
    "tree = spatial.cKDTree(i)\n",
    "\n",
    "for row in range(0,100):\n",
    "    globals()['string%s' % row] = tree.query_ball_point(i[row],0.04,2)\n",
    "\n",
    "for row in range(0,100):\n",
    "    globals()['meanset%s' % row] = np.empty([1,3])#np.matrix([[0,0,0]])\n",
    "    \n",
    "    for internal in range(0,len(globals()['string%s' %row])):\n",
    "        globals()['meanset%s' % row] = np.vstack((globals()['meanset%s' % row],x[globals()['string%s' %row][internal]]))\n",
    "    globals()['meanset%s' % row] = np.delete(globals()['meanset%s' % row],0,0)"
   ]
  },
  {
   "cell_type": "code",
   "execution_count": 12,
   "metadata": {
    "collapsed": false
   },
   "outputs": [
    {
     "name": "stdout",
     "output_type": "stream",
     "text": [
      "[[ 1.86093521 -2.32600403  5.37167645]\n",
      " [ 1.85446215 -2.3084774   5.38148785]\n",
      " [ 1.84685004 -2.3004148   5.38804865]\n",
      " [ 1.85571098 -2.29916096  5.38511181]]\n"
     ]
    }
   ],
   "source": [
    "print meanset0\n"
   ]
  },
  {
   "cell_type": "code",
   "execution_count": 13,
   "metadata": {
    "collapsed": false
   },
   "outputs": [],
   "source": [
    "for j in range(0,100):\n",
    "    a=globals()['meanset%s' % j].mean(0)\n",
    "    globals()['x%s' % j]=np.matrix(a)\n",
    "        \n",
    "    "
   ]
  },
  {
   "cell_type": "code",
   "execution_count": 14,
   "metadata": {
    "collapsed": false
   },
   "outputs": [
    {
     "data": {
      "text/plain": [
       "matrix([[ 1.85448959, -2.3085143 ,  5.38158119]])"
      ]
     },
     "execution_count": 14,
     "metadata": {},
     "output_type": "execute_result"
    }
   ],
   "source": [
    "x0"
   ]
  },
  {
   "cell_type": "code",
   "execution_count": 15,
   "metadata": {
    "collapsed": false
   },
   "outputs": [],
   "source": [
    "for row in range(0,100):\n",
    "    for internal in range(0,len(globals()['string%s' % row])):\n",
    "        globals()['meanset%s' % row][internal]=globals()['meanset%s' % row][internal] - globals()['x%s' % row]"
   ]
  },
  {
   "cell_type": "code",
   "execution_count": 16,
   "metadata": {
    "collapsed": false
   },
   "outputs": [
    {
     "data": {
      "text/plain": [
       "array([[  6.44561648e-03,  -1.74897313e-02,  -9.90474224e-03],\n",
       "       [ -2.74479375e-05,   3.68952775e-05,  -9.33408775e-05],\n",
       "       [ -7.63955713e-03,   8.09949637e-03,   6.46746158e-03],\n",
       "       [  1.22138858e-03,   9.35333967e-03,   3.53062153e-03]])"
      ]
     },
     "execution_count": 16,
     "metadata": {},
     "output_type": "execute_result"
    }
   ],
   "source": [
    "meanset0"
   ]
  },
  {
   "cell_type": "code",
   "execution_count": 17,
   "metadata": {
    "collapsed": false
   },
   "outputs": [],
   "source": [
    "for row in range(0,100):\n",
    "    #globals()['n%s' %row] = np.outer(globals()['meanset%s' % row].T,globals()['meanset%s' % row])\n",
    "    globals()['n%s' %row] = np.cov(globals()['meanset%s' % row].T)\n",
    "    "
   ]
  },
  {
   "cell_type": "code",
   "execution_count": 18,
   "metadata": {
    "collapsed": false
   },
   "outputs": [
    {
     "data": {
      "text/plain": [
       "array([[  3.38004495e-05,  -5.43952053e-05,  -3.63119631e-05],\n",
       "       [ -5.43952053e-05,   1.52992956e-04,   8.62113735e-05],\n",
       "       [ -3.63119631e-05,   8.62113735e-05,   5.08019930e-05]])"
      ]
     },
     "execution_count": 18,
     "metadata": {},
     "output_type": "execute_result"
    }
   ],
   "source": [
    "n0"
   ]
  },
  {
   "cell_type": "code",
   "execution_count": 19,
   "metadata": {
    "collapsed": false
   },
   "outputs": [
    {
     "name": "stdout",
     "output_type": "stream",
     "text": [
      "0.523590792258\n",
      "0.538002219132\n",
      "0.523346906906\n",
      "0.538002219132\n",
      "0.523346906906\n",
      "0.523346906906\n",
      "0.521739622847\n",
      "2.74259006428\n",
      "2.79134103677\n",
      "2.94137195035\n",
      "0.178459975923\n",
      "0.0876243533092\n",
      "0.0598442144121\n",
      "0.0125718768842\n",
      "0.0\n",
      "0.0\n",
      "0.0\n",
      "0.0\n",
      "0.0\n",
      "0.0\n",
      "0.0\n",
      "0.0\n",
      "0.0\n",
      "0.0\n",
      "0.0\n",
      "0.0\n",
      "0.0\n",
      "0.0\n",
      "0.0\n",
      "0.0\n",
      "0.0\n",
      "0.0\n",
      "0.0\n",
      "0.0\n",
      "0.0\n",
      "0.0\n",
      "0.0160037334744\n",
      "0.0588574902879\n",
      "0.0990633460523\n",
      "1.16898752324\n",
      "1.16898400007\n",
      "1.16898306819\n",
      "1.1689819843\n",
      "1.16898510268\n",
      "0.538002219132\n",
      "0.538002219132\n",
      "0.526946406564\n",
      "1.57079632679\n",
      "1.57079632679\n",
      "1.57079632679\n",
      "1.57079632679\n",
      "1.57079632679\n",
      "1.57079632679\n",
      "1.57079632679\n",
      "1.57079632679\n",
      "1.57079632679\n",
      "1.57079632679\n",
      "1.57079632679\n",
      "1.57079632679\n",
      "1.57079632679\n",
      "1.57079632679\n",
      "1.57079632679\n",
      "1.57079632679\n",
      "1.57079632679\n",
      "1.57079632679\n",
      "1.17068262473\n",
      "1.1706790698\n",
      "1.17067936263\n",
      "1.17068017607\n",
      "1.17068299995\n",
      "0.699008943894\n",
      "0.484511746753\n",
      "2.74259006428\n",
      "2.79134103677\n",
      "2.94137195035\n",
      "0.136553911201\n",
      "0.0876243533092\n",
      "0.0598442144121\n",
      "0.0125718768842\n",
      "0.0\n",
      "0.0\n",
      "0.0\n",
      "0.0\n",
      "0.0\n",
      "0.0\n",
      "0.0\n",
      "0.0\n",
      "0.0\n",
      "0.0\n",
      "0.0\n",
      "0.0\n",
      "0.0\n",
      "0.0\n",
      "0.0\n",
      "0.0\n",
      "0.0\n",
      "0.0\n",
      "0.0\n",
      "0.0\n",
      "0.0\n"
     ]
    }
   ],
   "source": [
    "angle = np.empty([100])\n",
    "for row in range(0,100):\n",
    "    (w,v) = np.linalg.eig(globals()['n%s' %row])\n",
    "    mini_vector = v[:,np.argmin(w)]\n",
    "    pro = mini_vector*mini_vector\n",
    "    mag  = np.sqrt(np.absolute(pro[0]+pro[1]+pro[2]))\n",
    "    dotproduct = np.dot(mini_vector, [0,0,1])\n",
    "    #print dotproduct\n",
    "    angle[row] = np.arccos(dotproduct/mag)\n",
    "    print angle[row]\n",
    "    \n",
    "    \n",
    "    "
   ]
  },
  {
   "cell_type": "code",
   "execution_count": 8,
   "metadata": {
    "collapsed": false
   },
   "outputs": [],
   "source": [
    "norm = matplotlib.colors.Normalize(0, 4)\n"
   ]
  },
  {
   "cell_type": "code",
   "execution_count": 9,
   "metadata": {
    "collapsed": false
   },
   "outputs": [],
   "source": [
    "jet = cm = plt.get_cmap('jet') "
   ]
  },
  {
   "cell_type": "code",
   "execution_count": 11,
   "metadata": {
    "collapsed": false
   },
   "outputs": [
    {
     "name": "stdout",
     "output_type": "stream",
     "text": [
      "(0, 4)\n"
     ]
    }
   ],
   "source": [
    "scalarMap = matplotlib.cm.ScalarMappable(norm=norm, cmap=jet)\n",
    "print scalarMap.get_clim()"
   ]
  },
  {
   "cell_type": "code",
   "execution_count": 36,
   "metadata": {
    "collapsed": false
   },
   "outputs": [
    {
     "name": "stdout",
     "output_type": "stream",
     "text": [
      "-0.137194628913\n"
     ]
    },
    {
     "data": {
      "text/plain": [
       "1.7084250304193187"
      ]
     },
     "execution_count": 36,
     "metadata": {},
     "output_type": "execute_result"
    }
   ],
   "source": [
    "lines = []\n",
    "for idx in range(len(curves)):\n",
    "    line = curves[idx]\n",
    "    colorVal = scalarMap.to_rgba(values[idx])\n",
    "    colorText = (\n",
    "        'color: (%4.2f,%4.2f,%4.2f)'%(colorVal[0],colorVal[1],colorVal[2])\n",
    "        )\n",
    "    retLine, = ax.plot(line,\n",
    "                       color=colorVal,\n",
    "                       label=colorText)\n",
    "    lines.append(retLine)"
   ]
  },
  {
   "cell_type": "code",
   "execution_count": 38,
   "metadata": {
    "collapsed": false
   },
   "outputs": [
    {
     "data": {
      "text/plain": [
       "-0.13677360515552331"
      ]
     },
     "execution_count": 38,
     "metadata": {},
     "output_type": "execute_result"
    }
   ],
   "source": [
    "np.cos(1.708)"
   ]
  },
  {
   "cell_type": "code",
   "execution_count": null,
   "metadata": {
    "collapsed": true
   },
   "outputs": [],
   "source": []
  }
 ],
 "metadata": {
  "kernelspec": {
   "display_name": "Python 2",
   "language": "python",
   "name": "python2"
  },
  "language_info": {
   "codemirror_mode": {
    "name": "ipython",
    "version": 2
   },
   "file_extension": ".py",
   "mimetype": "text/x-python",
   "name": "python",
   "nbconvert_exporter": "python",
   "pygments_lexer": "ipython2",
   "version": "2.7.10"
  }
 },
 "nbformat": 4,
 "nbformat_minor": 0
}
