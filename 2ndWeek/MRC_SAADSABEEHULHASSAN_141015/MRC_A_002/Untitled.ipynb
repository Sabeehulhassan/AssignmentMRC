{
 "cells": [
  {
   "cell_type": "code",
   "execution_count": 1,
   "metadata": {
    "collapsed": false
   },
   "outputs": [],
   "source": [
    "import numpy as np\n",
    "from scipy import spatial\n",
    "import numpy\n",
    "import matplotlib\n",
    "from matplotlib import pylab, mlab, pyplot\n",
    "np = numpy\n",
    "plt = pyplot\n",
    "\n",
    "from IPython.display import display\n",
    "from IPython.core.pylabtools import figsize, getfigs\n",
    "import IPython\n",
    "\n",
    "from pylab import *\n",
    "from numpy import *"
   ]
  },
  {
   "cell_type": "code",
   "execution_count": 2,
   "metadata": {
    "collapsed": false,
    "scrolled": true
   },
   "outputs": [
    {
     "data": {
      "text/plain": [
       "(219435, 3)"
      ]
     },
     "execution_count": 2,
     "metadata": {},
     "output_type": "execute_result"
    }
   ],
   "source": [
    "x = np.loadtxt('/home/sabeeh/Desktop/MRC_A_002/data/cloud.asc')\n",
    "x.shape"
   ]
  },
  {
   "cell_type": "code",
   "execution_count": 3,
   "metadata": {
    "collapsed": false
   },
   "outputs": [],
   "source": [
    "i= x[0:219435, ]\n",
    "tree = spatial.cKDTree(i)\n",
    "\n",
    "\n",
    "for row in range(0,219435):\n",
    "    globals()['string%s' % row] = tree.query_ball_point(i[row],0.04,2)\n",
    "\n",
    "for row in range(0,219435):\n",
    "    globals()['meanset%s' % row] = np.empty([1,3])#np.matrix([[0,0,0]])\n",
    "    \n",
    "    for internal in range(0,len(globals()['string%s' %row])):\n",
    "        if(len(globals()['string%s' %row])<=1):\n",
    "            pass\n",
    "            \n",
    "        else:\n",
    "            globals()['meanset%s' % row] = np.vstack((globals()['meanset%s' % row],x[globals()['string%s' %row][internal]]))\n",
    "    globals()['meanset%s' % row] = np.delete(globals()['meanset%s' % row],0,0)"
   ]
  },
  {
   "cell_type": "code",
   "execution_count": 49,
   "metadata": {
    "collapsed": false
   },
   "outputs": [
    {
     "data": {
      "text/plain": [
       "array([ 0.40528536, -2.15999985,  5.30817652])"
      ]
     },
     "execution_count": 49,
     "metadata": {},
     "output_type": "execute_result"
    }
   ],
   "source": [
    "i[761]"
   ]
  },
  {
   "cell_type": "code",
   "execution_count": 4,
   "metadata": {
    "collapsed": false
   },
   "outputs": [],
   "source": [
    "for j in range(0,219435):\n",
    "    if((globals()['meanset%s' % j]).shape == (0,3)):\n",
    "        pass\n",
    "    else:\n",
    "        a=globals()['meanset%s' % j].mean(0)\n",
    "        globals()['x%s' % j]=np.matrix(a)\n",
    "        \n",
    "    "
   ]
  },
  {
   "cell_type": "code",
   "execution_count": 19,
   "metadata": {
    "collapsed": false
   },
   "outputs": [
    {
     "data": {
      "text/plain": [
       "matrix([[ nan,  nan,  nan]])"
      ]
     },
     "execution_count": 19,
     "metadata": {},
     "output_type": "execute_result"
    }
   ],
   "source": [
    "x761"
   ]
  },
  {
   "cell_type": "code",
   "execution_count": 5,
   "metadata": {
    "collapsed": false
   },
   "outputs": [],
   "source": [
    "for row in range(0,219435):\n",
    "    for internal in range(0,len(globals()['string%s' % row])):\n",
    "        if(((globals()['meanset%s' %row]) == [[ nan,  nan,  nan]]).all()):\n",
    "            #globals()['meanset%s' %row][internal] = globals()['meanset%s' %row-1]\n",
    "            pass\n",
    "        else:\n",
    "            globals()['meanset%s' % row][internal]=globals()['meanset%s' % row][internal] - globals()['x%s' % row]\n",
    "        "
   ]
  },
  {
   "cell_type": "code",
   "execution_count": 24,
   "metadata": {
    "collapsed": false
   },
   "outputs": [
    {
     "data": {
      "text/plain": [
       "array([], shape=(0, 3), dtype=float64)"
      ]
     },
     "execution_count": 24,
     "metadata": {},
     "output_type": "execute_result"
    }
   ],
   "source": [
    "meanset761"
   ]
  },
  {
   "cell_type": "code",
   "execution_count": 6,
   "metadata": {
    "collapsed": false
   },
   "outputs": [
    {
     "name": "stderr",
     "output_type": "stream",
     "text": [
      "/home/sabeeh/anaconda/lib/python2.7/site-packages/numpy/lib/function_base.py:1890: RuntimeWarning: Degrees of freedom <= 0 for slice\n",
      "  warnings.warn(\"Degrees of freedom <= 0 for slice\", RuntimeWarning)\n",
      "/home/sabeeh/anaconda/lib/python2.7/site-packages/numpy/core/_methods.py:59: RuntimeWarning: Mean of empty slice.\n",
      "  warnings.warn(\"Mean of empty slice.\", RuntimeWarning)\n",
      "/home/sabeeh/anaconda/lib/python2.7/site-packages/numpy/core/_methods.py:69: RuntimeWarning: invalid value encountered in true_divide\n",
      "  ret, rcount, out=ret, casting='unsafe', subok=False)\n",
      "/home/sabeeh/anaconda/lib/python2.7/site-packages/numpy/lib/function_base.py:1901: RuntimeWarning: invalid value encountered in true_divide\n",
      "  return (dot(X, X.T.conj()) / fact).squeeze()\n"
     ]
    }
   ],
   "source": [
    "angle = np.empty([219435])\n",
    "for row in range(0,219435):\n",
    "    #globals()['n%s' %row] = np.outer(globals()['meanset%s' % row].T,globals()['meanset%s' % row])\n",
    "    if((globals()['meanset%s' % j]).shape == (0,3)):\n",
    "        pass\n",
    "    else:\n",
    "        globals()['n%s' %row] = np.cov(globals()['meanset%s' % row].T)\n",
    "       \n",
    "    "
   ]
  },
  {
   "cell_type": "code",
   "execution_count": 8,
   "metadata": {
    "collapsed": false
   },
   "outputs": [
    {
     "data": {
      "text/plain": [
       "array([], shape=(0, 3), dtype=float64)"
      ]
     },
     "execution_count": 8,
     "metadata": {},
     "output_type": "execute_result"
    }
   ],
   "source": [
    "meanset761"
   ]
  },
  {
   "cell_type": "code",
   "execution_count": 7,
   "metadata": {
    "collapsed": false,
    "scrolled": true
   },
   "outputs": [
    {
     "name": "stderr",
     "output_type": "stream",
     "text": [
      "/home/sabeeh/anaconda/lib/python2.7/site-packages/IPython/kernel/__main__.py:12: ComplexWarning: Casting complex values to real discards the imaginary part\n"
     ]
    }
   ],
   "source": [
    "angle = np.empty([219435])\n",
    "for row in range(0,219435):\n",
    "    if((globals()['meanset%s' % row]).shape == (0,3)):\n",
    "        pass\n",
    "    else:\n",
    "        (w,v) = np.linalg.eig(globals()['n%s' % row])\n",
    "        mini_vector = v[:,np.argmin(w)]\n",
    "        pro = mini_vector*mini_vector\n",
    "        mag  = np.sqrt(np.absolute(pro[0]+pro[1]+pro[2]))\n",
    "        dotproduct = np.dot(mini_vector, [0,0,1])\n",
    "        #print dotproduct\n",
    "        angle[row] = np.arccos(dotproduct/mag)\n",
    "    \n",
    "    \n",
    "    "
   ]
  },
  {
   "cell_type": "code",
   "execution_count": 17,
   "metadata": {
    "collapsed": false
   },
   "outputs": [
    {
     "data": {
      "text/plain": [
       "array([[ nan,  nan,  nan],\n",
       "       [ nan,  nan,  nan],\n",
       "       [ nan,  nan,  nan]])"
      ]
     },
     "execution_count": 17,
     "metadata": {},
     "output_type": "execute_result"
    }
   ],
   "source": [
    "n761"
   ]
  },
  {
   "cell_type": "code",
   "execution_count": 8,
   "metadata": {
    "collapsed": false
   },
   "outputs": [],
   "source": [
    "colors = cm.RdYlGn_r(angle)\n",
    "\n",
    "retcol = colors[:,:3] *255\n",
    "\n",
    "final = np.append(i,retcol,axis=1)"
   ]
  },
  {
   "cell_type": "code",
   "execution_count": 9,
   "metadata": {
    "collapsed": false
   },
   "outputs": [],
   "source": [
    "def save_as_ply(filename, points):\n",
    "    assert points.ndim == 2\n",
    "    assert points.shape[1] == 6\n",
    "    header = \"\"\"ply\n",
    "        format ascii 1.0\n",
    "        element vertex {0}\n",
    "        property float x\n",
    "        property float y\n",
    "        property float z\n",
    "        property uchar red\n",
    "        property uchar green\n",
    "        property uchar blue\n",
    "        element face 0\n",
    "        property list uchar int vertex_indices\\r\\nend_header\"\"\"\n",
    "    number_of_points = points.shape[0]\n",
    "    with open(filename, \"w\") as ply_file:\n",
    "        print >>ply_file, header.format(number_of_points)\n",
    "        point_format = (\"%.18f\", \"%.18f\", \"%.18f\", \"%d\", \"%d\", \"%d\") \n",
    "        np.savetxt(ply_file, points, delimiter=\" \", fmt=point_format)\n",
    "        \n",
    "save_as_ply(\"output.ply\",final)"
   ]
  },
  {
   "cell_type": "code",
   "execution_count": 11,
   "metadata": {
    "collapsed": false
   },
   "outputs": [
    {
     "name": "stdout",
     "output_type": "stream",
     "text": [
      "(0, 4)\n"
     ]
    }
   ],
   "source": [
    "scalarMap = matplotlib.cm.ScalarMappable(norm=norm, cmap=jet)\n",
    "print scalarMap.get_clim()"
   ]
  },
  {
   "cell_type": "code",
   "execution_count": 36,
   "metadata": {
    "collapsed": false
   },
   "outputs": [
    {
     "name": "stdout",
     "output_type": "stream",
     "text": [
      "-0.137194628913\n"
     ]
    },
    {
     "data": {
      "text/plain": [
       "1.7084250304193187"
      ]
     },
     "execution_count": 36,
     "metadata": {},
     "output_type": "execute_result"
    }
   ],
   "source": [
    "lines = []\n",
    "for idx in range(len(curves)):\n",
    "    line = curves[idx]\n",
    "    colorVal = scalarMap.to_rgba(values[idx])\n",
    "    colorText = (\n",
    "        'color: (%4.2f,%4.2f,%4.2f)'%(colorVal[0],colorVal[1],colorVal[2])\n",
    "        )\n",
    "    retLine, = ax.plot(line,\n",
    "                       color=colorVal,\n",
    "                       label=colorText)\n",
    "    lines.append(retLine)"
   ]
  },
  {
   "cell_type": "code",
   "execution_count": 38,
   "metadata": {
    "collapsed": false
   },
   "outputs": [
    {
     "data": {
      "text/plain": [
       "-0.13677360515552331"
      ]
     },
     "execution_count": 38,
     "metadata": {},
     "output_type": "execute_result"
    }
   ],
   "source": [
    "np.cos(1.708)"
   ]
  },
  {
   "cell_type": "code",
   "execution_count": null,
   "metadata": {
    "collapsed": true
   },
   "outputs": [],
   "source": []
  }
 ],
 "metadata": {
  "kernelspec": {
   "display_name": "Python 2",
   "language": "python",
   "name": "python2"
  },
  "language_info": {
   "codemirror_mode": {
    "name": "ipython",
    "version": 2
   },
   "file_extension": ".py",
   "mimetype": "text/x-python",
   "name": "python",
   "nbconvert_exporter": "python",
   "pygments_lexer": "ipython2",
   "version": "2.7.10"
  }
 },
 "nbformat": 4,
 "nbformat_minor": 0
}
