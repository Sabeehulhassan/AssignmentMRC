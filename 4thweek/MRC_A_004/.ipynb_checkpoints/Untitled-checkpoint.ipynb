{
 "cells": [
  {
   "cell_type": "code",
   "execution_count": 1,
   "metadata": {
    "collapsed": true
   },
   "outputs": [],
   "source": [
    "import numpy as np\n",
    "from PIL import Image\n",
    "import os, os.path\n",
    "import glob\n",
    "import pylab\n"
   ]
  },
  {
   "cell_type": "code",
   "execution_count": 31,
   "metadata": {
    "collapsed": false
   },
   "outputs": [],
   "source": [
    "#/////////////////////////////////FUNCTION TO SOLVE LEAST SQUARE PROBLEM////////////////////////////////////////// \n",
    "\n",
    "def clsq(A,dim):\n",
    "    m = len(A) \n",
    "    p = len(A[0])\n",
    "    m = min(m,p)\n",
    "    Q,R= np.linalg.qr(final_append)\n",
    "    R1 = R[p-(dim):m, p-(dim):p] \n",
    "    U,S,V = np.linalg.svd(R1,full_matrices=False)\n",
    "    n = V[:,dim-1]\n",
    "    x= -R[1:p-dim,1:p-dim]/R[1:p-dim,p-dim+1:p]\n",
    "    c=x*n\n",
    "    return c,n\n",
    "\n",
    "#////////////////////////////////////TWO DATA SETS LOADED AND ABOVE FUNCTION CALLED////////////////////////////////\n",
    "\n",
    "a = np.load('/home/sabeeh/Desktop/MRC_A_004/data/P1.npy')\n",
    "b = np.load('/home/sabeeh/Desktop/MRC_A_004/data/P2.npy')\n",
    "aa = np.load('/home/sabeeh/Desktop/MRC_A_004/data/Q1.npy')\n",
    "bb = np.load('/home/sabeeh/Desktop/MRC_A_004/data/Q2.npy')\n",
    "\n",
    "ins_ones_first = np.insert(a, 0, np.zeros((1, 700)), 1)\n",
    "ins_ones_first =  np.insert(ins_ones_first, 0, np.zeros((1, 700)), 1)\n",
    "ins_ones_first =  np.insert(ins_ones_first, 0, np.zeros((1, 700)), 1)\n",
    "ins_zeros_first =  np.insert(ins_ones_first, 0, np.ones((1, 700)), 1)\n",
    "\n",
    "ins_ones_second = np.insert(b, 0, np.zeros((1, 450)), 1)\n",
    "ins_ones_second =  np.insert(ins_ones_second, 0, np.zeros((1, 450)), 1)\n",
    "ins_ones_second = np.insert(ins_ones_second, 0, np.ones((1, 450)), 1)\n",
    "ins_zeros_second =  np.insert(ins_ones_second, 0, np.zeros((1, 450)), 1)\n",
    "\n",
    "ins_ones_third = np.insert(aa, 0, np.zeros((1, 900)), 1)\n",
    "ins_ones_third =  np.insert(ins_ones_third, 0, np.ones((1, 900)), 1)\n",
    "ins_ones_third = np.insert(ins_ones_third, 0, np.zeros((1, 900)), 1)\n",
    "ins_zeros_third =  np.insert(ins_ones_third, 0, np.zeros((1, 900)), 1)\n",
    "\n",
    "ins_ones_fourth = np.insert(bb, 0, np.ones((1, 450)), 1)\n",
    "ins_ones_fourth =  np.insert(ins_ones_fourth, 0, np.zeros((1, 450)), 1)\n",
    "ins_ones_fourth = np.insert(ins_ones_fourth, 0, np.zeros((1, 450)), 1)\n",
    "ins_zeros_fourth =  np.insert(ins_ones_fourth, 0, np.zeros((1, 450)), 1)\n",
    "\n",
    "final_append = np.append(ins_zeros_first,ins_zeros_second,0)\n",
    "final_append = np.append(final_append,ins_zeros_third,0)\n",
    "final_append = np.append(final_append,ins_zeros_,0)\n",
    "\n",
    "\n",
    "\n",
    "\n"
   ]
  },
  {
   "cell_type": "code",
   "execution_count": 8,
   "metadata": {
    "collapsed": false
   },
   "outputs": [
    {
     "data": {
      "text/plain": [
       "array([-0.72899973, -0.68451398])"
      ]
     },
     "execution_count": 8,
     "metadata": {},
     "output_type": "execute_result"
    }
   ],
   "source": [
    "c,n = clsq(final_append,2)\n",
    "\n",
    "n"
   ]
  },
  {
   "cell_type": "code",
   "execution_count": 27,
   "metadata": {
    "collapsed": false
   },
   "outputs": [
    {
     "data": {
      "text/plain": [
       "1.0"
      ]
     },
     "execution_count": 27,
     "metadata": {},
     "output_type": "execute_result"
    }
   ],
   "source": [
    "\n",
    "n[0]*n[0] + n[1]*n[1]\n",
    "\n"
   ]
  },
  {
   "cell_type": "code",
   "execution_count": null,
   "metadata": {
    "collapsed": true
   },
   "outputs": [],
   "source": [
    "\n"
   ]
  }
 ],
 "metadata": {
  "kernelspec": {
   "display_name": "Python 2",
   "language": "python",
   "name": "python2"
  },
  "language_info": {
   "codemirror_mode": {
    "name": "ipython",
    "version": 2
   },
   "file_extension": ".py",
   "mimetype": "text/x-python",
   "name": "python",
   "nbconvert_exporter": "python",
   "pygments_lexer": "ipython2",
   "version": "2.7.10"
  }
 },
 "nbformat": 4,
 "nbformat_minor": 0
}
