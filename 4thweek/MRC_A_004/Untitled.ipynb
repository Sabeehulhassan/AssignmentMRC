{
 "cells": [
  {
   "cell_type": "code",
   "execution_count": 1,
   "metadata": {
    "collapsed": true
   },
   "outputs": [],
   "source": [
    "import numpy as np\n",
    "from PIL import Image\n",
    "import os, os.path\n",
    "import glob\n",
    "import pylab\n"
   ]
  },
  {
   "cell_type": "code",
   "execution_count": 37,
   "metadata": {
    "collapsed": false
   },
   "outputs": [],
   "source": [
    "#/////////////////////////////////FUNCTION TO SOLVE LEAST SQUARE PROBLEM////////////////////////////////////////// \n",
    "\n",
    "def clsq(A,dim):\n",
    "    m = len(A) \n",
    "    p = len(A[0])\n",
    "    m = min(m,p)\n",
    "    Q,R= np.linalg.qr(final_append)\n",
    "    R1 = R[p-(dim):m, p-(dim):p] \n",
    "    U,S,V = np.linalg.svd(R1,full_matrices=False)\n",
    "    n = V[:,dim-1]\n",
    "    x= -R[1:p-dim,1:p-dim]/R[1:p-dim,p-dim+1:p]\n",
    "    c=x*n\n",
    "    return c,n\n",
    "\n",
    "#////////////////////////////////////TWO DATA SETS LOADED AND ABOVE FUNCTION CALLED////////////////////////////////\n",
    "\n",
    "a = np.load('/home/sabeeh/Desktop/MRC_A_004/data/P1.npy')\n",
    "b = np.load('/home/sabeeh/Desktop/MRC_A_004/data/P2.npy')\n",
    "aa = np.load('/home/sabeeh/Desktop/MRC_A_004/data/Q1.npy')\n",
    "bb = np.load('/home/sabeeh/Desktop/MRC_A_004/data/Q2.npy')\n",
    "\n",
    "ins_ones_first = np.insert(a, 0, np.zeros((1, 700)), 1)\n",
    "ins_ones_first =  np.insert(ins_ones_first, 0, np.zeros((1, 700)), 1)\n",
    "ins_ones_first =  np.insert(ins_ones_first, 0, np.zeros((1, 700)), 1)\n",
    "ins_zeros_first =  np.insert(ins_ones_first, 0, np.ones((1, 700)), 1)\n",
    "\n",
    "ins_ones_second = np.insert(b, 0, np.zeros((1, 450)), 1)\n",
    "ins_ones_second =  np.insert(ins_ones_second, 0, np.zeros((1, 450)), 1)\n",
    "ins_ones_second = np.insert(ins_ones_second, 0, np.ones((1, 450)), 1)\n",
    "ins_zeros_second =  np.insert(ins_ones_second, 0, np.zeros((1, 450)), 1)\n",
    "\n",
    "ins_ones_third = np.insert(aa, 0, np.zeros((1, 900)), 1)\n",
    "ins_ones_third =  np.insert(ins_ones_third, 0, np.ones((1, 900)), 1)\n",
    "ins_ones_third = np.insert(ins_ones_third, 0, np.zeros((1, 900)), 1)\n",
    "ins_zeros_third =  np.insert(ins_ones_third, 0, np.zeros((1, 900)), 1)\n",
    "\n",
    "ins_ones_fourth = np.insert(bb, 0, np.ones((1, 450)), 1)\n",
    "ins_ones_fourth =  np.insert(ins_ones_fourth, 0, np.zeros((1, 450)), 1)\n",
    "ins_ones_fourth = np.insert(ins_ones_fourth, 0, np.zeros((1, 450)), 1)\n",
    "ins_zeros_fourth =  np.insert(ins_ones_fourth, 0, np.zeros((1, 450)), 1)\n",
    "\n",
    "final_append = np.append(ins_zeros_first,ins_zeros_second,0)\n",
    "final_append = np.append(final_append,ins_zeros_third,0)\n",
    "final_append = np.append(final_append,ins_zeros_fourth,0)\n",
    "\n"
   ]
  },
  {
   "cell_type": "code",
   "execution_count": 38,
   "metadata": {
    "collapsed": false
   },
   "outputs": [
    {
     "ename": "ValueError",
     "evalue": "operands could not be broadcast together with shapes (3,3) (2,) ",
     "output_type": "error",
     "traceback": [
      "\u001b[1;31m---------------------------------------------------------------------------\u001b[0m",
      "\u001b[1;31mValueError\u001b[0m                                Traceback (most recent call last)",
      "\u001b[1;32m<ipython-input-38-f27f29336a1a>\u001b[0m in \u001b[0;36m<module>\u001b[1;34m()\u001b[0m\n\u001b[1;32m----> 1\u001b[1;33m \u001b[0mc\u001b[0m\u001b[1;33m,\u001b[0m\u001b[0mn\u001b[0m \u001b[1;33m=\u001b[0m \u001b[0mclsq\u001b[0m\u001b[1;33m(\u001b[0m\u001b[0mfinal_append\u001b[0m\u001b[1;33m,\u001b[0m\u001b[1;36m2\u001b[0m\u001b[1;33m)\u001b[0m\u001b[1;33m\u001b[0m\u001b[0m\n\u001b[0m\u001b[0;32m      2\u001b[0m \u001b[1;33m\u001b[0m\u001b[0m\n",
      "\u001b[1;32m<ipython-input-37-26b1da0fff6e>\u001b[0m in \u001b[0;36mclsq\u001b[1;34m(A, dim)\u001b[0m\n\u001b[0;32m     10\u001b[0m     \u001b[0mn\u001b[0m \u001b[1;33m=\u001b[0m \u001b[0mV\u001b[0m\u001b[1;33m[\u001b[0m\u001b[1;33m:\u001b[0m\u001b[1;33m,\u001b[0m\u001b[0mdim\u001b[0m\u001b[1;33m-\u001b[0m\u001b[1;36m1\u001b[0m\u001b[1;33m]\u001b[0m\u001b[1;33m\u001b[0m\u001b[0m\n\u001b[0;32m     11\u001b[0m     \u001b[0mx\u001b[0m\u001b[1;33m=\u001b[0m \u001b[1;33m-\u001b[0m\u001b[0mR\u001b[0m\u001b[1;33m[\u001b[0m\u001b[1;36m1\u001b[0m\u001b[1;33m:\u001b[0m\u001b[0mp\u001b[0m\u001b[1;33m-\u001b[0m\u001b[0mdim\u001b[0m\u001b[1;33m,\u001b[0m\u001b[1;36m1\u001b[0m\u001b[1;33m:\u001b[0m\u001b[0mp\u001b[0m\u001b[1;33m-\u001b[0m\u001b[0mdim\u001b[0m\u001b[1;33m]\u001b[0m\u001b[1;33m/\u001b[0m\u001b[0mR\u001b[0m\u001b[1;33m[\u001b[0m\u001b[1;36m1\u001b[0m\u001b[1;33m:\u001b[0m\u001b[0mp\u001b[0m\u001b[1;33m-\u001b[0m\u001b[0mdim\u001b[0m\u001b[1;33m,\u001b[0m\u001b[0mp\u001b[0m\u001b[1;33m-\u001b[0m\u001b[0mdim\u001b[0m\u001b[1;33m+\u001b[0m\u001b[1;36m1\u001b[0m\u001b[1;33m:\u001b[0m\u001b[0mp\u001b[0m\u001b[1;33m]\u001b[0m\u001b[1;33m\u001b[0m\u001b[0m\n\u001b[1;32m---> 12\u001b[1;33m     \u001b[0mc\u001b[0m\u001b[1;33m=\u001b[0m\u001b[0mx\u001b[0m\u001b[1;33m*\u001b[0m\u001b[0mn\u001b[0m\u001b[1;33m\u001b[0m\u001b[0m\n\u001b[0m\u001b[0;32m     13\u001b[0m     \u001b[1;32mreturn\u001b[0m \u001b[0mc\u001b[0m\u001b[1;33m,\u001b[0m\u001b[0mn\u001b[0m\u001b[1;33m\u001b[0m\u001b[0m\n\u001b[0;32m     14\u001b[0m \u001b[1;33m\u001b[0m\u001b[0m\n",
      "\u001b[1;31mValueError\u001b[0m: operands could not be broadcast together with shapes (3,3) (2,) "
     ]
    }
   ],
   "source": [
    "c,n = clsq(final_append,2)\n",
    "\n"
   ]
  },
  {
   "cell_type": "code",
   "execution_count": 27,
   "metadata": {
    "collapsed": false
   },
   "outputs": [
    {
     "data": {
      "text/plain": [
       "1.0"
      ]
     },
     "execution_count": 27,
     "metadata": {},
     "output_type": "execute_result"
    }
   ],
   "source": [
    "\n",
    "n[0]*n[0] + n[1]*n[1]\n",
    "\n"
   ]
  },
  {
   "cell_type": "code",
   "execution_count": null,
   "metadata": {
    "collapsed": true
   },
   "outputs": [],
   "source": [
    "\n"
   ]
  }
 ],
 "metadata": {
  "kernelspec": {
   "display_name": "Python 2",
   "language": "python",
   "name": "python2"
  },
  "language_info": {
   "codemirror_mode": {
    "name": "ipython",
    "version": 2
   },
   "file_extension": ".py",
   "mimetype": "text/x-python",
   "name": "python",
   "nbconvert_exporter": "python",
   "pygments_lexer": "ipython2",
   "version": "2.7.10"
  }
 },
 "nbformat": 4,
 "nbformat_minor": 0
}
