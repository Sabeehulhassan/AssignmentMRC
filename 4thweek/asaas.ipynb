{
 "cells": [
  {
   "cell_type": "code",
   "execution_count": 96,
   "metadata": {
    "collapsed": false
   },
   "outputs": [],
   "source": [
    "from PIL import Image\n",
    "import numpy as np\n",
    "import os, os.path\n",
    "import glob\n",
    "import pylab"
   ]
  },
  {
   "cell_type": "code",
   "execution_count": 82,
   "metadata": {
    "collapsed": false
   },
   "outputs": [
    {
     "data": {
      "text/plain": [
       "array([[255, 255, 255, ..., 255, 255, 255],\n",
       "       [255, 255, 255, ..., 255, 255, 255],\n",
       "       [255, 255, 255, ..., 255, 255, 255],\n",
       "       ..., \n",
       "       [188, 255, 255, ..., 255, 242, 244],\n",
       "       [202, 255, 255, ..., 255, 227, 234],\n",
       "       [202, 255, 255, ..., 255, 207, 255]], dtype=uint8)"
      ]
     },
     "execution_count": 82,
     "metadata": {},
     "output_type": "execute_result"
    }
   ],
   "source": [
    "######################################### Loading Images from a Directory###########################################\n",
    "\n",
    "\n",
    "image_list = []\n",
    "for filename in glob.glob('/home/sabeeh/Desktop/MRC_A_003/data/training/*.pgm'): \n",
    "    im=Image.open(filename)\n",
    "    image_list.append(im)\n",
    "\n",
    "############################################### Initial Image #######################################################\n",
    "\n",
    "sample_1 = image_list[0]\n",
    "im_1 = np.asarray(sample_1)\n",
    "flat_1 = im_1.flatten('C')\n",
    "flat_1 = flat_1.reshape(45045,1)\n",
    "\n",
    "###################Appending Each Image to make one Matrix i-e one column represents one Image######################\n",
    "\n",
    "for count in range(1,110):\n",
    "    sample_2 = image_list[count]\n",
    "    im_2 = np.asarray(sample_2)\n",
    "    flat_2 = im_2.flatten('C')\n",
    "    flat_2 = flat_2.reshape(45045,1)\n",
    "    flat_1 = np.append(flat_1,flat_2,1)\n"
   ]
  },
  {
   "cell_type": "code",
   "execution_count": 84,
   "metadata": {
    "collapsed": false
   },
   "outputs": [
    {
     "data": {
      "text/plain": [
       "array([ 244.71818182,  244.9       ,  245.13636364, ...,  217.61818182,\n",
       "        217.95454545,  219.16363636])"
      ]
     },
     "execution_count": 84,
     "metadata": {},
     "output_type": "execute_result"
    }
   ],
   "source": [
    "#################################################    MEAN   #######################################################\n",
    "\n",
    "mean_image = np.mean(flat_1,1)\n",
    "mean_image"
   ]
  },
  {
   "cell_type": "code",
   "execution_count": 110,
   "metadata": {
    "collapsed": false
   },
   "outputs": [
    {
     "data": {
      "text/plain": [
       "(45045,)"
      ]
     },
     "execution_count": 110,
     "metadata": {},
     "output_type": "execute_result"
    }
   ],
   "source": [
    "################################################# SUBTRACT ########################################################\n",
    "\n",
    "sub_init = flat_1[:,0] - mean_image\n",
    "sub_init = sub_init.reshape(45045,1)\n",
    "\n",
    "for subtract in range(1,110):\n",
    "    sub_final = flat_1[:,subtract] - mean_image\n",
    "    sub_final = sub_final.reshape(45045,1)\n",
    "    sub_init = np.append(sub_init,sub_final,1)\n",
    "\n",
    "\n",
    "sub_init[:,0].shape"
   ]
  },
  {
   "cell_type": "code",
   "execution_count": 91,
   "metadata": {
    "collapsed": false
   },
   "outputs": [],
   "source": [
    "#################################################TRANSPOSE########################################################\n",
    "transpose_image = sub_init.T"
   ]
  },
  {
   "cell_type": "code",
   "execution_count": 94,
   "metadata": {
    "collapsed": false
   },
   "outputs": [],
   "source": [
    "#################################################   SVD########################################################\n",
    "\n",
    "U,S,V = np.linalg.svd(transpose_image, full_matrices=0)"
   ]
  },
  {
   "cell_type": "code",
   "execution_count": 97,
   "metadata": {
    "collapsed": false
   },
   "outputs": [
    {
     "data": {
      "text/plain": [
       "<matplotlib.figure.Figure at 0x7fc74ca6ba10>"
      ]
     },
     "execution_count": 97,
     "metadata": {},
     "output_type": "execute_result"
    }
   ],
   "source": [
    "pylab.figure()"
   ]
  },
  {
   "cell_type": "code",
   "execution_count": 111,
   "metadata": {
    "collapsed": false
   },
   "outputs": [],
   "source": [
    "pylab.gray()\n",
    "##pylab.imshow((sub_init[0]).reshape(231,195))\n",
    "b = sub_init[:,0].reshape(231,195)"
   ]
  },
  {
   "cell_type": "code",
   "execution_count": 112,
   "metadata": {
    "collapsed": false
   },
   "outputs": [
    {
     "data": {
      "text/plain": [
       "<matplotlib.image.AxesImage at 0x7fc728296c50>"
      ]
     },
     "execution_count": 112,
     "metadata": {},
     "output_type": "execute_result"
    }
   ],
   "source": [
    "pylab.imshow(b)"
   ]
  },
  {
   "cell_type": "code",
   "execution_count": 113,
   "metadata": {
    "collapsed": true
   },
   "outputs": [],
   "source": [
    "pylab.show()"
   ]
  },
  {
   "cell_type": "code",
   "execution_count": 114,
   "metadata": {
    "collapsed": false
   },
   "outputs": [
    {
     "data": {
      "text/plain": [
       "(110, 110)"
      ]
     },
     "execution_count": 114,
     "metadata": {},
     "output_type": "execute_result"
    }
   ],
   "source": [
    "U.shape"
   ]
  },
  {
   "cell_type": "code",
   "execution_count": 115,
   "metadata": {
    "collapsed": false
   },
   "outputs": [
    {
     "data": {
      "text/plain": [
       "array([ -1.26813061e-01,   1.47909843e-02,  -7.47565885e-02,\n",
       "         3.21634261e-03,  -6.22901240e-02,   9.04438946e-02,\n",
       "         7.41479623e-02,  -2.95080609e-02,   1.17983487e-02,\n",
       "        -3.20978108e-02,   1.13729074e-01,  -5.97432873e-02,\n",
       "         2.15059003e-02,  -1.56590777e-01,   1.78254169e-02,\n",
       "        -7.44870109e-02,   1.46826375e-01,  -5.50479236e-02,\n",
       "         3.37432843e-03,   5.93754112e-02,  -9.47656383e-02,\n",
       "         4.73040824e-03,  -1.39195063e-03,   7.39616936e-02,\n",
       "        -4.52458636e-02,   6.76639276e-03,  -5.66974007e-02,\n",
       "         3.20489382e-02,  -2.64782561e-01,   4.37429492e-02,\n",
       "        -1.31728275e-01,   1.91929659e-01,  -1.86113744e-01,\n",
       "         1.05936388e-01,  -7.37079725e-02,   2.13745882e-01,\n",
       "        -9.85418780e-02,  -4.29275857e-02,  -1.63823208e-01,\n",
       "         5.84028804e-02,   1.27783076e-01,   3.64391956e-02,\n",
       "        -5.79399398e-02,  -6.97608931e-02,   1.92791555e-01,\n",
       "         2.77614142e-02,   2.90488883e-03,   1.10641583e-01,\n",
       "        -1.05406327e-01,  -5.76852591e-02,  -1.54450205e-02,\n",
       "        -2.30486570e-02,  -1.31747802e-02,   7.54152385e-02,\n",
       "         2.94990210e-02,   2.86326586e-01,  -8.64900418e-02,\n",
       "        -5.40716541e-03,  -1.79741508e-03,  -1.42449248e-01,\n",
       "        -1.47047877e-01,   1.92728013e-01,   8.53009895e-02,\n",
       "         1.56253450e-01,   9.74703910e-02,  -4.27746145e-02,\n",
       "        -7.41352537e-02,  -2.23723695e-01,  -1.91054135e-01,\n",
       "         3.65276846e-02,   1.18544492e-02,   2.02348126e-01,\n",
       "         1.93331031e-02,   6.43321364e-02,   2.03862728e-01,\n",
       "        -1.34438880e-02,  -6.67412349e-02,  -3.44576785e-02,\n",
       "        -8.57543223e-02,  -1.28101575e-01,  -3.58886376e-02,\n",
       "         6.63716697e-02,   6.66388866e-02,   1.59132390e-01,\n",
       "         6.58943543e-02,  -4.85978681e-02,  -2.68379667e-04,\n",
       "        -1.03402561e-02,  -6.71581451e-02,  -6.09803095e-02,\n",
       "        -7.38741622e-02,  -1.45453881e-02,   1.70400643e-02,\n",
       "         5.06455172e-02,   1.83767243e-02,   4.76937914e-02,\n",
       "         2.11371294e-02,  -3.36357402e-02,  -4.16777403e-02,\n",
       "        -1.00687935e-02,   2.99613979e-02,   2.37794910e-02,\n",
       "         2.26061852e-02,  -3.48228989e-02,  -1.37919067e-03,\n",
       "        -7.14937915e-03,   3.68342526e-03,  -9.71626978e-03,\n",
       "         4.15929108e-03,   9.53462589e-02])"
      ]
     },
     "execution_count": 115,
     "metadata": {},
     "output_type": "execute_result"
    }
   ],
   "source": [
    "U[0]"
   ]
  },
  {
   "cell_type": "code",
   "execution_count": null,
   "metadata": {
    "collapsed": true
   },
   "outputs": [],
   "source": []
  }
 ],
 "metadata": {
  "kernelspec": {
   "display_name": "Python 2",
   "language": "python",
   "name": "python2"
  },
  "language_info": {
   "codemirror_mode": {
    "name": "ipython",
    "version": 2
   },
   "file_extension": ".py",
   "mimetype": "text/x-python",
   "name": "python",
   "nbconvert_exporter": "python",
   "pygments_lexer": "ipython2",
   "version": "2.7.10"
  }
 },
 "nbformat": 4,
 "nbformat_minor": 0
}
