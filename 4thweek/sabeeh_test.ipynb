{
 "cells": [
  {
   "cell_type": "code",
   "execution_count": 1,
   "metadata": {
    "collapsed": true
   },
   "outputs": [],
   "source": [
    "from PIL import Image\n",
    "import numpy as np\n",
    "import pylab\n",
    "import os"
   ]
  },
  {
   "cell_type": "code",
   "execution_count": 46,
   "metadata": {
    "collapsed": false
   },
   "outputs": [],
   "source": [
    "path = \"/home/saikiran/HBRS/MRC/week3/MRC_A_003/data/training/\"\n",
    "i = 0\n",
    "#for file in sorted(os.listdir(path)):\n",
    "#    print file\n",
    "allimagematrix = np.asarray([np.array(Image.open(\"/home/saikiran/HBRS/MRC/week3/MRC_A_003/data/training/%s\" % file)).flatten() for file in sorted(os.listdir(path))])"
   ]
  },
  {
   "cell_type": "code",
   "execution_count": 47,
   "metadata": {
    "collapsed": false
   },
   "outputs": [
    {
     "name": "stdout",
     "output_type": "stream",
     "text": [
      "(110, 45045)\n"
     ]
    }
   ],
   "source": [
    "print allimagematrix.shape"
   ]
  },
  {
   "cell_type": "code",
   "execution_count": 4,
   "metadata": {
    "collapsed": false
   },
   "outputs": [
    {
     "data": {
      "text/plain": [
       "(45045,)"
      ]
     },
     "execution_count": 4,
     "metadata": {},
     "output_type": "execute_result"
    }
   ],
   "source": [
    "allimagematrix[0].shape"
   ]
  },
  {
   "cell_type": "code",
   "execution_count": 5,
   "metadata": {
    "collapsed": false
   },
   "outputs": [
    {
     "data": {
      "text/plain": [
       "(110, 45045)"
      ]
     },
     "execution_count": 5,
     "metadata": {},
     "output_type": "execute_result"
    }
   ],
   "source": [
    "allimagematrix.shape"
   ]
  },
  {
   "cell_type": "code",
   "execution_count": 6,
   "metadata": {
    "collapsed": false
   },
   "outputs": [],
   "source": [
    "mean = allimagematrix.mean(axis = 0)"
   ]
  },
  {
   "cell_type": "code",
   "execution_count": 7,
   "metadata": {
    "collapsed": false
   },
   "outputs": [
    {
     "data": {
      "text/plain": [
       "array([ 244.71818182,  244.9       ,  245.13636364, ...,  217.61818182,\n",
       "        217.95454545,  219.16363636])"
      ]
     },
     "execution_count": 7,
     "metadata": {},
     "output_type": "execute_result"
    }
   ],
   "source": [
    "mean"
   ]
  },
  {
   "cell_type": "code",
   "execution_count": 8,
   "metadata": {
    "collapsed": false
   },
   "outputs": [
    {
     "data": {
      "text/plain": [
       "(45045,)"
      ]
     },
     "execution_count": 8,
     "metadata": {},
     "output_type": "execute_result"
    }
   ],
   "source": [
    "mean.shape"
   ]
  },
  {
   "cell_type": "code",
   "execution_count": 9,
   "metadata": {
    "collapsed": false
   },
   "outputs": [],
   "source": [
    "#for i in range(110):\n",
    "imagesminmean = allimagematrix - mean\n",
    "    "
   ]
  },
  {
   "cell_type": "code",
   "execution_count": 10,
   "metadata": {
    "collapsed": false
   },
   "outputs": [
    {
     "data": {
      "text/plain": [
       "array([[  10.28181818,   10.1       ,    9.86363636, ...,   37.38181818,\n",
       "          37.04545455,   35.83636364],\n",
       "       [  10.28181818,   10.1       ,    9.86363636, ...,   37.38181818,\n",
       "          37.04545455,   35.83636364],\n",
       "       [ -81.71818182,  -57.9       ,  -63.13636364, ...,  -32.61818182,\n",
       "         -17.95454545,   -8.16363636],\n",
       "       ..., \n",
       "       [  10.28181818,   10.1       ,    9.86363636, ...,   37.38181818,\n",
       "          37.04545455,   35.83636364],\n",
       "       [-122.71818182, -121.9       , -121.13636364, ...,   37.38181818,\n",
       "          37.04545455,   35.83636364],\n",
       "       [  10.28181818,   10.1       ,    9.86363636, ..., -181.61818182,\n",
       "        -179.95454545, -179.16363636]])"
      ]
     },
     "execution_count": 10,
     "metadata": {},
     "output_type": "execute_result"
    }
   ],
   "source": [
    "imagesminmean"
   ]
  },
  {
   "cell_type": "code",
   "execution_count": 11,
   "metadata": {
    "collapsed": false
   },
   "outputs": [
    {
     "data": {
      "text/plain": [
       "(110, 45045)"
      ]
     },
     "execution_count": 11,
     "metadata": {},
     "output_type": "execute_result"
    }
   ],
   "source": [
    "imagesminmean.shape"
   ]
  },
  {
   "cell_type": "code",
   "execution_count": 12,
   "metadata": {
    "collapsed": false,
    "scrolled": true
   },
   "outputs": [],
   "source": [
    "U,S,V = np.linalg.svd(imagesminmean.T,full_matrices=0)"
   ]
  },
  {
   "cell_type": "code",
   "execution_count": 13,
   "metadata": {
    "collapsed": false
   },
   "outputs": [
    {
     "name": "stdout",
     "output_type": "stream",
     "text": [
      "[[ -1.06011077e-03   3.32349551e-04  -2.41204699e-03 ...,  -6.48927886e-04\n",
      "    8.00832510e-04   1.30860049e-01]\n",
      " [ -9.83361777e-04   2.79298235e-04  -2.28440845e-03 ...,  -8.19125728e-04\n",
      "    1.06347052e-03  -1.87076628e-01]\n",
      " [ -1.00171563e-03   2.35103963e-04  -2.22569516e-03 ...,  -6.69787061e-04\n",
      "    9.08614963e-04   5.90573389e-01]\n",
      " ..., \n",
      " [  4.78130773e-03   3.80725039e-03  -4.32862120e-04 ...,  -1.56743039e-03\n",
      "    5.68414401e-04  -8.81243597e-04]\n",
      " [  4.72126946e-03   4.03907436e-03  -4.72014531e-04 ...,  -1.67753714e-03\n",
      "    1.48137416e-04  -2.42166625e-03]\n",
      " [  4.57532517e-03   4.09620656e-03  -4.74279260e-04 ...,   3.71170305e-04\n",
      "    3.99303054e-04   1.85528805e-03]]\n"
     ]
    }
   ],
   "source": [
    "print U"
   ]
  },
  {
   "cell_type": "code",
   "execution_count": 14,
   "metadata": {
    "collapsed": false
   },
   "outputs": [
    {
     "data": {
      "text/plain": [
       "(45045, 110)"
      ]
     },
     "execution_count": 14,
     "metadata": {},
     "output_type": "execute_result"
    }
   ],
   "source": [
    "U.shape\n",
    "\n",
    "\n",
    "\n",
    "\n",
    "#tmp = np.dot(allimagematrix.T,eigenvectors).T\n",
    "#tmp"
   ]
  },
  {
   "cell_type": "code",
   "execution_count": 57,
   "metadata": {
    "collapsed": false
   },
   "outputs": [
    {
     "data": {
      "text/plain": [
       "(110, 110)"
      ]
     },
     "execution_count": 57,
     "metadata": {},
     "output_type": "execute_result"
    }
   ],
   "source": [
    "w = np.dot(imagesminmean,U)\n",
    "w.shape"
   ]
  },
  {
   "cell_type": "code",
   "execution_count": 16,
   "metadata": {
    "collapsed": false
   },
   "outputs": [
    {
     "data": {
      "text/plain": [
       "-359.67032579751088"
      ]
     },
     "execution_count": 16,
     "metadata": {},
     "output_type": "execute_result"
    }
   ],
   "source": [
    "w[0,:].sum()"
   ]
  },
  {
   "cell_type": "code",
   "execution_count": 17,
   "metadata": {
    "collapsed": true
   },
   "outputs": [],
   "source": [
    "test_dim = np.array([np.array(Image.open(\"/home/saikiran/HBRS/MRC/week3/MRC_A_003/data/test/subject01.happy.pgm\")).flatten()])"
   ]
  },
  {
   "cell_type": "code",
   "execution_count": 18,
   "metadata": {
    "collapsed": false
   },
   "outputs": [
    {
     "data": {
      "text/plain": [
       "(1, 45045)"
      ]
     },
     "execution_count": 18,
     "metadata": {},
     "output_type": "execute_result"
    }
   ],
   "source": [
    "test_dim.shape"
   ]
  },
  {
   "cell_type": "code",
   "execution_count": 19,
   "metadata": {
    "collapsed": false
   },
   "outputs": [],
   "source": [
    "\n",
    "shifted_in = test_dim - mean"
   ]
  },
  {
   "cell_type": "code",
   "execution_count": 20,
   "metadata": {
    "collapsed": false
   },
   "outputs": [],
   "source": [
    "U_t,S_t,V_t = np.linalg.svd(shifted_in.T,full_matrices=0)"
   ]
  },
  {
   "cell_type": "code",
   "execution_count": 48,
   "metadata": {
    "collapsed": false
   },
   "outputs": [
    {
     "data": {
      "text/plain": [
       "(45045, 1)"
      ]
     },
     "execution_count": 48,
     "metadata": {},
     "output_type": "execute_result"
    }
   ],
   "source": [
    "U_t.shape"
   ]
  },
  {
   "cell_type": "code",
   "execution_count": 21,
   "metadata": {
    "collapsed": false
   },
   "outputs": [],
   "source": [
    "w_t = np.dot(shifted_in,U)"
   ]
  },
  {
   "cell_type": "code",
   "execution_count": 22,
   "metadata": {
    "collapsed": false
   },
   "outputs": [
    {
     "data": {
      "text/plain": [
       "110"
      ]
     },
     "execution_count": 22,
     "metadata": {},
     "output_type": "execute_result"
    }
   ],
   "source": [
    "w_t.size"
   ]
  },
  {
   "cell_type": "code",
   "execution_count": 23,
   "metadata": {
    "collapsed": false
   },
   "outputs": [],
   "source": [
    "import scipy.spatial as sp"
   ]
  },
  {
   "cell_type": "code",
   "execution_count": 24,
   "metadata": {
    "collapsed": false
   },
   "outputs": [],
   "source": [
    "dist = np.empty(110)\n",
    "\n",
    "for i in range(110):\n",
    "    dist[i] = (sp.distance.euclidean(w[i],w_t))"
   ]
  },
  {
   "cell_type": "code",
   "execution_count": 25,
   "metadata": {
    "collapsed": false
   },
   "outputs": [
    {
     "data": {
      "text/plain": [
       "4"
      ]
     },
     "execution_count": 25,
     "metadata": {},
     "output_type": "execute_result"
    }
   ],
   "source": [
    "np.argmin(dist)"
   ]
  },
  {
   "cell_type": "code",
   "execution_count": 26,
   "metadata": {
    "collapsed": false,
    "scrolled": false
   },
   "outputs": [
    {
     "data": {
      "text/plain": [
       "array([  6098.55861738,   6028.65567184,  20863.06385001,   6640.93074874,\n",
       "         4358.29269434,   7469.05423796,   9909.71337676,  13901.87890933,\n",
       "        13947.22525127,  18458.22359301,  14259.96340141,  14190.58649984,\n",
       "        15531.83553897,  13601.20565279,  15641.33300616,  13247.08572515,\n",
       "        16795.28988168,  17197.73125181,  15043.51229632,  24264.26455118,\n",
       "        13378.49988637,  13474.66709086,  24377.61875593,  13241.99475946,\n",
       "        17408.12333968,  15071.29089393,  15386.39818832,  22020.55381251,\n",
       "        15394.0960829 ,  14709.70228147,  15550.41385975,  15938.58375796,\n",
       "        15728.48899957,  14669.86578703,  19830.38734391,  15652.47313397,\n",
       "        15280.40589152,  14789.08895807,  15188.91326625,  14546.36347028,\n",
       "        15000.90374643,  18649.55241312,  15263.46203224,  16150.04458847,\n",
       "        16583.19867244,  16182.30521927,  16590.12622645,  23575.78469976,\n",
       "        17185.397092  ,  21822.89387798,  17033.36790566,  17957.82515255,\n",
       "        16359.01544133,  14831.68295271,  13819.34434804,  20177.34470166,\n",
       "        15815.07910855,  14480.74380719,  15577.14242759,  13867.23246396,\n",
       "        14755.00380243,  16328.95824018,  21482.252168  ,  17094.76174767,\n",
       "        18682.79570111,  16293.43129023,  13954.29024385,  14389.17972678,\n",
       "        18043.69189522,  14664.06775794,  16462.59482006,  14411.93780203,\n",
       "        14893.24293798,  15659.27776781,  22318.7877854 ,  19325.4393536 ,\n",
       "        20401.5057829 ,  25157.44220324,  20748.13582493,  21197.14667613,\n",
       "        16582.3521917 ,  19857.25477526,  15169.01589457,  13279.34498421,\n",
       "        15556.90104775,  15258.64791551,  15701.94638284,  15285.27259193,\n",
       "        18279.65271031,  16181.27736644,  22134.90255704,  16149.71823932,\n",
       "        16660.37875349,  22917.04545114,  16077.49060673,  16573.59671917,\n",
       "        16663.12570347,  12332.09520761,  12137.82028247,  20644.88743514,\n",
       "        12881.69108501,  13083.48731071,  13810.46868175,  13777.52819665,\n",
       "        16167.1863727 ,  16658.33362643,  16225.6890211 ,  15584.6457839 ,\n",
       "        22818.74341872,  17375.47185574])"
      ]
     },
     "execution_count": 26,
     "metadata": {},
     "output_type": "execute_result"
    }
   ],
   "source": [
    "dist\n",
    "\n"
   ]
  },
  {
   "cell_type": "code",
   "execution_count": 28,
   "metadata": {
    "collapsed": false
   },
   "outputs": [
    {
     "data": {
      "text/plain": [
       "(45045,)"
      ]
     },
     "execution_count": 28,
     "metadata": {},
     "output_type": "execute_result"
    }
   ],
   "source": [
    "allimagematrix[4].shape"
   ]
  },
  {
   "cell_type": "code",
   "execution_count": 32,
   "metadata": {
    "collapsed": false
   },
   "outputs": [
    {
     "data": {
      "text/plain": [
       "(231, 195)"
      ]
     },
     "execution_count": 32,
     "metadata": {},
     "output_type": "execute_result"
    }
   ],
   "source": [
    "test_dim = np.array(Image.open(\"/home/saikiran/HBRS/MRC/week3/MRC_A_003/data/test/subject01.happy.pgm\"))\n",
    "test_dim.shape"
   ]
  },
  {
   "cell_type": "code",
   "execution_count": 34,
   "metadata": {
    "collapsed": false
   },
   "outputs": [],
   "source": [
    "pic = allimagematrix[4].reshape(231,195)"
   ]
  },
  {
   "cell_type": "code",
   "execution_count": 35,
   "metadata": {
    "collapsed": false
   },
   "outputs": [
    {
     "data": {
      "text/plain": [
       "<matplotlib.image.AxesImage at 0x7f709d90cfd0>"
      ]
     },
     "execution_count": 35,
     "metadata": {},
     "output_type": "execute_result"
    }
   ],
   "source": [
    "pylab.figure()\n",
    "pylab.gray()\n",
    "pylab.imshow(pic)"
   ]
  },
  {
   "cell_type": "code",
   "execution_count": 37,
   "metadata": {
    "collapsed": false
   },
   "outputs": [],
   "source": [
    "pylab.show()"
   ]
  },
  {
   "cell_type": "code",
   "execution_count": 39,
   "metadata": {
    "collapsed": false
   },
   "outputs": [
    {
     "data": {
      "text/plain": [
       "(45045,)"
      ]
     },
     "execution_count": 39,
     "metadata": {},
     "output_type": "execute_result"
    }
   ],
   "source": [
    "allimagematrix[4].shape"
   ]
  },
  {
   "cell_type": "code",
   "execution_count": 40,
   "metadata": {
    "collapsed": true
   },
   "outputs": [],
   "source": [
    "image_filenames = (\"smiling\", \"sad\", \"idonno\")"
   ]
  },
  {
   "cell_type": "code",
   "execution_count": 41,
   "metadata": {
    "collapsed": false
   },
   "outputs": [
    {
     "name": "stdout",
     "output_type": "stream",
     "text": [
      "smiling\n",
      "sad\n",
      "idonno\n"
     ]
    }
   ],
   "source": [
    "for image in image_filenames:\n",
    "    print image"
   ]
  },
  {
   "cell_type": "code",
   "execution_count": 45,
   "metadata": {
    "collapsed": false
   },
   "outputs": [
    {
     "name": "stdout",
     "output_type": "stream",
     "text": [
      "subject01.glasses.pgm\n",
      "subject01.noglasses.pgm\n",
      "subject01.rightlight.pgm\n",
      "subject01.sad.pgm\n",
      "subject01.sleepy.pgm\n",
      "subject01.surprised.pgm\n",
      "subject01.wink.pgm\n",
      "subject02.centerlight.pgm\n",
      "subject02.glasses.pgm\n",
      "subject02.leftlight.pgm\n",
      "subject02.noglasses.pgm\n",
      "subject02.normal.pgm\n",
      "subject02.rightlight.pgm\n",
      "subject02.sad.pgm\n",
      "subject02.sleepy.pgm\n",
      "subject02.surprised.pgm\n",
      "subject02.wink.pgm\n",
      "subject03.glasses.pgm\n",
      "subject03.happy.pgm\n",
      "subject03.leftlight.pgm\n",
      "subject03.noglasses.pgm\n",
      "subject03.normal.pgm\n",
      "subject03.rightlight.pgm\n",
      "subject03.sad.pgm\n",
      "subject03.wink.pgm\n",
      "subject04.happy.pgm\n",
      "subject04.normal.pgm\n",
      "subject04.rightlight.pgm\n",
      "subject04.sad.pgm\n",
      "subject04.sleepy.pgm\n",
      "subject04.surprised.pgm\n",
      "subject04.wink.pgm\n",
      "subject05.glasses.pgm\n",
      "subject05.happy.pgm\n",
      "subject05.leftlight.pgm\n",
      "subject05.noglasses.pgm\n",
      "subject05.sleepy.pgm\n",
      "subject05.surprised.pgm\n",
      "subject05.wink.pgm\n",
      "subject06.centerlight.pgm\n",
      "subject06.noglasses.pgm\n",
      "subject06.rightlight.pgm\n",
      "subject06.sad.pgm\n",
      "subject06.sleepy.pgm\n",
      "subject06.surprised.pgm\n",
      "subject07.centerlight.pgm\n",
      "subject07.glasses.pgm\n",
      "subject07.leftlight.pgm\n",
      "subject07.normal.pgm\n",
      "subject07.rightlight.pgm\n",
      "subject07.sad.pgm\n",
      "subject07.sleepy.pgm\n",
      "subject08.glasses.pgm\n",
      "subject08.happy.pgm\n",
      "subject08.noglasses.pgm\n",
      "subject08.rightlight.pgm\n",
      "subject08.sad.pgm\n",
      "subject08.sleepy.pgm\n",
      "subject08.surprised.pgm\n",
      "subject08.wink.pgm\n",
      "subject09.centerlight.pgm\n",
      "subject09.happy.pgm\n",
      "subject09.leftlight.pgm\n",
      "subject09.noglasses.pgm\n",
      "subject09.rightlight.pgm\n",
      "subject09.surprised.pgm\n",
      "subject10.centerlight.pgm\n",
      "subject10.happy.pgm\n",
      "subject10.leftlight.pgm\n",
      "subject10.normal.pgm\n",
      "subject10.rightlight.pgm\n",
      "subject10.sleepy.pgm\n",
      "subject10.surprised.pgm\n",
      "subject10.wink.pgm\n",
      "subject11.centerlight.pgm\n",
      "subject11.glasses.pgm\n",
      "subject11.happy.pgm\n",
      "subject11.leftlight.pgm\n",
      "subject11.sleepy.pgm\n",
      "subject11.surprised.pgm\n",
      "subject12.happy.pgm\n",
      "subject12.leftlight.pgm\n",
      "subject12.noglasses.pgm\n",
      "subject12.rightlight.pgm\n",
      "subject12.sad.pgm\n",
      "subject12.sleepy.pgm\n",
      "subject12.surprised.pgm\n",
      "subject12.wink.pgm\n",
      "subject13.centerlight.pgm\n",
      "subject13.happy.pgm\n",
      "subject13.leftlight.pgm\n",
      "subject13.noglasses.pgm\n",
      "subject13.normal.pgm\n",
      "subject13.rightlight.pgm\n",
      "subject13.sad.pgm\n",
      "subject13.surprised.pgm\n",
      "subject13.wink.pgm\n",
      "subject14.centerlight.pgm\n",
      "subject14.happy.pgm\n",
      "subject14.leftlight.pgm\n",
      "subject14.noglasses.pgm\n",
      "subject14.sad.pgm\n",
      "subject14.surprised.pgm\n",
      "subject14.wink.pgm\n",
      "subject15.glasses.pgm\n",
      "subject15.happy.pgm\n",
      "subject15.noglasses.pgm\n",
      "subject15.normal.pgm\n",
      "subject15.rightlight.pgm\n",
      "subject15.sleepy.pgm\n"
     ]
    }
   ],
   "source": [
    "for file in sorted(os.listdir(path)):\n",
    "    print file\n",
    "    allimagematrix = np.asarray([np.array(Image.open(\"/home/saikiran/HBRS/MRC/week3/MRC_A_003/data/training/%s\" % file)).flatten()])"
   ]
  },
  {
   "cell_type": "code",
   "execution_count": 43,
   "metadata": {
    "collapsed": false
   },
   "outputs": [
    {
     "data": {
      "text/plain": [
       "array([[255, 255, 255, ...,  36,  38,  40]], dtype=uint8)"
      ]
     },
     "execution_count": 43,
     "metadata": {},
     "output_type": "execute_result"
    }
   ],
   "source": [
    "allimagematrix"
   ]
  },
  {
   "cell_type": "code",
   "execution_count": 44,
   "metadata": {
    "collapsed": false
   },
   "outputs": [
    {
     "data": {
      "text/plain": [
       "(1, 45045)"
      ]
     },
     "execution_count": 44,
     "metadata": {},
     "output_type": "execute_result"
    }
   ],
   "source": [
    "allimagematrix.shape"
   ]
  },
  {
   "cell_type": "code",
   "execution_count": 52,
   "metadata": {
    "collapsed": false
   },
   "outputs": [],
   "source": [
    "global x "
   ]
  },
  {
   "cell_type": "code",
   "execution_count": 53,
   "metadata": {
    "collapsed": true
   },
   "outputs": [],
   "source": [
    "x = allimagematrix"
   ]
  },
  {
   "cell_type": "code",
   "execution_count": 54,
   "metadata": {
    "collapsed": false
   },
   "outputs": [
    {
     "data": {
      "text/plain": [
       "(110, 45045)"
      ]
     },
     "execution_count": 54,
     "metadata": {},
     "output_type": "execute_result"
    }
   ],
   "source": [
    "x.shape"
   ]
  },
  {
   "cell_type": "code",
   "execution_count": null,
   "metadata": {
    "collapsed": true
   },
   "outputs": [],
   "source": []
  }
 ],
 "metadata": {
  "kernelspec": {
   "display_name": "Python 2",
   "language": "python",
   "name": "python2"
  },
  "language_info": {
   "codemirror_mode": {
    "name": "ipython",
    "version": 2
   },
   "file_extension": ".py",
   "mimetype": "text/x-python",
   "name": "python",
   "nbconvert_exporter": "python",
   "pygments_lexer": "ipython2",
   "version": "2.7.10"
  }
 },
 "nbformat": 4,
 "nbformat_minor": 0
}
