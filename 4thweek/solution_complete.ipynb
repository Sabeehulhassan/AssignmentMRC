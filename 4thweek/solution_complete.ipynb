{
 "cells": [
  {
   "cell_type": "code",
   "execution_count": 2,
   "metadata": {
    "collapsed": true
   },
   "outputs": [],
   "source": [
    "\n",
    "import numpy\n",
    "import matplotlib\n",
    "from matplotlib import pylab, mlab, pyplot\n",
    "np = numpy\n",
    "plt = pyplot\n",
    "            \n",
    "from IPython.display import display\n",
    "from IPython.core.pylabtools import figsize, getfigs\n",
    "import IPython\n",
    "from pylab import *\n",
    "from numpy import *\n",
    "import os"
   ]
  },
  {
   "cell_type": "code",
   "execution_count": null,
   "metadata": {
    "collapsed": true
   },
   "outputs": [],
   "source": [
    "#note that for this code, inuput can be any of the points, dont freak out ;-), i m pretty sure about it it works in awesome way just follow the algorithm\n",
    "# check for the commments where code for different excercises end\n",
    "# code to fit two parallel lines\n",
    "#also to understand why the inverting happens and sonetimes it doesnt check out the downloads in lea"
   ]
  },
  {
   "cell_type": "code",
   "execution_count": 3,
   "metadata": {
    "collapsed": false
   },
   "outputs": [
    {
     "name": "stdout",
     "output_type": "stream",
     "text": [
      "[[   0.          -12.68293924]\n",
      " [   1.          -12.61393325]\n",
      " [   2.          -13.54072672]\n",
      " ..., \n",
      " [ 697.         -783.54143988]\n",
      " [ 698.         -784.76854525]\n",
      " [ 699.         -786.81395933]]\n"
     ]
    }
   ],
   "source": [
    "p1= np.load('/home/sabeeh/Desktop/MRC_A_004/data/P1.npy')\n",
    "p2= np.load('/home/sabeeh/Desktop/MRC_A_004/data/P2.npy')\n",
    "print p1"
   ]
  },
  {
   "cell_type": "code",
   "execution_count": 4,
   "metadata": {
    "collapsed": false
   },
   "outputs": [
    {
     "name": "stdout",
     "output_type": "stream",
     "text": [
      "(700, 2)\n",
      "(450, 2)\n"
     ]
    }
   ],
   "source": [
    "print p1.shape\n",
    "print p2.shape"
   ]
  },
  {
   "cell_type": "code",
   "execution_count": 5,
   "metadata": {
    "collapsed": false
   },
   "outputs": [],
   "source": [
    "sizep1toappend, sizep1columns = p1.shape\n",
    "sizep2toappend, sizep2columns = p2.shape"
   ]
  },
  {
   "cell_type": "code",
   "execution_count": 6,
   "metadata": {
    "collapsed": true
   },
   "outputs": [],
   "source": [
    "onesp1 = np.ones((sizep1toappend,1))\n",
    "zerosp1 = np.zeros((sizep1toappend,1))\n",
    "onesp2  = np.ones((sizep2toappend,1))\n",
    "zerosp2 = np.zeros((sizep2toappend,1))"
   ]
  },
  {
   "cell_type": "code",
   "execution_count": 7,
   "metadata": {
    "collapsed": false
   },
   "outputs": [
    {
     "name": "stdout",
     "output_type": "stream",
     "text": [
      "(700, 1)\n",
      "(700, 1)\n",
      "(450, 1)\n",
      "(450, 1)\n"
     ]
    }
   ],
   "source": [
    "print onesp1.shape\n",
    "print zerosp1.shape\n",
    "print onesp2.shape\n",
    "print zerosp2.shape"
   ]
  },
  {
   "cell_type": "code",
   "execution_count": 8,
   "metadata": {
    "collapsed": false
   },
   "outputs": [
    {
     "name": "stdout",
     "output_type": "stream",
     "text": [
      "(700, 4)\n"
     ]
    }
   ],
   "source": [
    "completep1 = np.hstack((onesp1,zerosp1,p1))\n",
    "print completep1.shape"
   ]
  },
  {
   "cell_type": "code",
   "execution_count": 9,
   "metadata": {
    "collapsed": false
   },
   "outputs": [
    {
     "data": {
      "text/plain": [
       "(450, 4)"
      ]
     },
     "execution_count": 9,
     "metadata": {},
     "output_type": "execute_result"
    }
   ],
   "source": [
    "completep2 = np.hstack((onesp2,zerosp2,p2))\n",
    "completep2.shape"
   ]
  },
  {
   "cell_type": "code",
   "execution_count": 10,
   "metadata": {
    "collapsed": false
   },
   "outputs": [],
   "source": [
    "A = np.vstack((completep1,completep2))"
   ]
  },
  {
   "cell_type": "code",
   "execution_count": 35,
   "metadata": {
    "collapsed": false
   },
   "outputs": [
    {
     "data": {
      "text/plain": [
       "array([[   1.        ,    0.        ,    0.        ,  -12.68293924],\n",
       "       [   1.        ,    0.        ,    1.        ,  -12.61393325],\n",
       "       [   1.        ,    0.        ,    2.        ,  -13.54072672],\n",
       "       ..., \n",
       "       [   1.        ,    0.        ,  447.        , -388.30994665],\n",
       "       [   1.        ,    0.        ,  448.        , -388.54277472],\n",
       "       [   1.        ,    0.        ,  449.        , -388.51291723]])"
      ]
     },
     "execution_count": 35,
     "metadata": {},
     "output_type": "execute_result"
    }
   ],
   "source": [
    "A"
   ]
  },
  {
   "cell_type": "code",
   "execution_count": 57,
   "metadata": {
    "collapsed": false
   },
   "outputs": [
    {
     "data": {
      "text/plain": [
       "array([[ 0.65686221, -0.75401063],\n",
       "       [ 0.75401063,  0.65686221]])"
      ]
     },
     "execution_count": 57,
     "metadata": {},
     "output_type": "execute_result"
    }
   ],
   "source": [
    "def clsq(A,dim):\n",
    "    m, p = A.shape\n",
    "    if p < dim + 1:\n",
    "        print \"not enough unknowns\"\n",
    "    if m < dim:\n",
    "        print \"not enough equations\"\n",
    "    m = np.minimum(m,p)\n",
    "    Not,R  = np.linalg.qr(A)\n",
    "    R1 = R[p-dim:m, p-dim:p] \n",
    "    U,S,V = np.linalg.svd(R1,full_matrices=False)\n",
    "    n = np.array(V[:,dim-1]).reshape(2,1)\n",
    "    #R1 = np.linalg.inv(-R[0:p-dim, 0:p-dim])\n",
    "    #print R1\n",
    "    a = np.dot(R1,n)\n",
    "    c = np.dot(np.linalg.inv(R1),a)\n",
    "    return c,n"
   ]
  },
  {
   "cell_type": "code",
   "execution_count": 17,
   "metadata": {
    "collapsed": false
   },
   "outputs": [
    {
     "name": "stdout",
     "output_type": "stream",
     "text": [
      "[[-0.75401063]\n",
      " [ 0.65686221]]\n",
      "[[-0.75401063]\n",
      " [ 0.65686221]]\n",
      "[ 1.]\n"
     ]
    }
   ],
   "source": [
    "c,n = clsq(A,2)\n",
    "print c\n",
    "print n\n",
    "print n[0]*n[0] + n[1]*n[1]"
   ]
  },
  {
   "cell_type": "code",
   "execution_count": 12,
   "metadata": {
    "collapsed": false
   },
   "outputs": [
    {
     "name": "stdout",
     "output_type": "stream",
     "text": [
      "(2, 2)\n",
      "[[-0.65686221  0.75401063]\n",
      " [-0.75401063 -0.65686221]]\n",
      "[ 0.75401063 -0.65686221]\n",
      "[[-6353.91306015  7156.94952258]\n",
      " [   -0.         -1317.16887911]]\n",
      "[]\n"
     ]
    }
   ],
   "source": [
    "#nothing much dont run this is just experimenting block\n",
    "\n",
    "\n",
    "dim = 2\n",
    "p = 4\n",
    "Not,R  = np.linalg.qr(A)\n",
    "R1 = -R[2:4,2:4]\n",
    "U,S,V = np.linalg.svd(R1,full_matrices=False)\n",
    "print V.shape\n",
    "print V\n",
    "n = V[:,1]\n",
    "print n\n",
    "print R1\n",
    "print R1[0:p-dim,p-dim:p]"
   ]
  },
  {
   "cell_type": "code",
   "execution_count": 31,
   "metadata": {
    "collapsed": false
   },
   "outputs": [
    {
     "name": "stdout",
     "output_type": "stream",
     "text": [
      "[[   -33.91164992      0.         -10193.39963877  10737.67477556]\n",
      " [     0.              0.           -290.97702381    295.31644932]\n",
      " [     0.              0.           6353.91306015  -7156.94952258]\n",
      " [     0.              0.              0.           1317.16887911]]\n",
      "[[-6353.91306015  7156.94952258]\n",
      " [   -0.         -1317.16887911]]\n"
     ]
    }
   ],
   "source": [
    "# same expeimenting block\n",
    "\n",
    "print R\n",
    "R1 = -R[2:4, 2:4]\n",
    "print R1"
   ]
  },
  {
   "cell_type": "code",
   "execution_count": null,
   "metadata": {
    "collapsed": true
   },
   "outputs": [],
   "source": []
  },
  {
   "cell_type": "code",
   "execution_count": null,
   "metadata": {
    "collapsed": true
   },
   "outputs": [],
   "source": [
    "# code to fit two perpendicular lines"
   ]
  },
  {
   "cell_type": "code",
   "execution_count": 21,
   "metadata": {
    "collapsed": false
   },
   "outputs": [
    {
     "name": "stdout",
     "output_type": "stream",
     "text": [
      "(900, 2)\n",
      "(450, 2)\n"
     ]
    }
   ],
   "source": [
    "q1= np.load('/home/saikiran/HBRS/MRC/week4/MRC_A_004/data/Q1.npy')\n",
    "q2= np.load('/home/saikiran/HBRS/MRC/week4/MRC_A_004/data/Q2.npy')\n",
    "print q1.shape\n",
    "print q2.shape"
   ]
  },
  {
   "cell_type": "code",
   "execution_count": 22,
   "metadata": {
    "collapsed": true
   },
   "outputs": [],
   "source": [
    "sizeq1toappend, sizeq1columns = q1.shape\n",
    "sizeq2toappend, sizeq2columns = q2.shape"
   ]
  },
  {
   "cell_type": "code",
   "execution_count": 23,
   "metadata": {
    "collapsed": false
   },
   "outputs": [
    {
     "name": "stdout",
     "output_type": "stream",
     "text": [
      "(900, 1)\n",
      "(900, 1)\n",
      "(450, 1)\n",
      "(450, 1)\n"
     ]
    }
   ],
   "source": [
    "onesq1 = np.ones((sizeq1toappend,1))\n",
    "zerosq1 = np.zeros((sizeq1toappend,1))\n",
    "onesq2  = np.ones((sizeq2toappend,1))\n",
    "zerosq2 = np.zeros((sizeq2toappend,1))\n",
    "print onesq1.shape\n",
    "print zerosq1.shape\n",
    "print onesq2.shape\n",
    "print zerosq2.shape"
   ]
  },
  {
   "cell_type": "code",
   "execution_count": 25,
   "metadata": {
    "collapsed": false
   },
   "outputs": [
    {
     "name": "stdout",
     "output_type": "stream",
     "text": [
      "(900, 4)\n"
     ]
    }
   ],
   "source": [
    "completeq1 = np.hstack((onesq1,zerosq1,q1))\n",
    "print completeq1.shape"
   ]
  },
  {
   "cell_type": "code",
   "execution_count": 40,
   "metadata": {
    "collapsed": false
   },
   "outputs": [
    {
     "name": "stdout",
     "output_type": "stream",
     "text": [
      "(450, 2)\n",
      "(450, 1)\n",
      "(450, 1)\n"
     ]
    }
   ],
   "source": [
    "print q2.shape\n",
    "toinvertq2_1 = np.array(q2[:,0]*-1).reshape(sizeq2toappend,1)\n",
    "toinvertq2_2 = np.array(q2[:,1]).reshape(sizeq2toappend,1)\n",
    "print toinvertq2_1.shape\n",
    "print toinvertq2_2.shape"
   ]
  },
  {
   "cell_type": "code",
   "execution_count": 41,
   "metadata": {
    "collapsed": false
   },
   "outputs": [
    {
     "data": {
      "text/plain": [
       "(450, 4)"
      ]
     },
     "execution_count": 41,
     "metadata": {},
     "output_type": "execute_result"
    }
   ],
   "source": [
    "completeq2 = np.hstack((onesq2,zerosq2,toinvertq2_2, toinvertq2_1))\n",
    "completeq2.shape"
   ]
  },
  {
   "cell_type": "code",
   "execution_count": 43,
   "metadata": {
    "collapsed": false
   },
   "outputs": [
    {
     "data": {
      "text/plain": [
       "(1350, 4)"
      ]
     },
     "execution_count": 43,
     "metadata": {},
     "output_type": "execute_result"
    }
   ],
   "source": [
    "Perpendi = np.vstack((completeq1,completeq2))\n",
    "Perpendi.shape"
   ]
  },
  {
   "cell_type": "code",
   "execution_count": 44,
   "metadata": {
    "collapsed": false
   },
   "outputs": [],
   "source": [
    "#call the same function clsq(A,dim)\n",
    "c2,n2 = clsq(Perpendi,2)"
   ]
  },
  {
   "cell_type": "code",
   "execution_count": 45,
   "metadata": {
    "collapsed": false
   },
   "outputs": [
    {
     "name": "stdout",
     "output_type": "stream",
     "text": [
      "[[-0.70782211]\n",
      " [-0.70639073]]\n",
      "[[-0.70782211]\n",
      " [-0.70639073]]\n"
     ]
    }
   ],
   "source": [
    "print c2\n",
    "print n2"
   ]
  },
  {
   "cell_type": "code",
   "execution_count": 46,
   "metadata": {
    "collapsed": false
   },
   "outputs": [
    {
     "name": "stdout",
     "output_type": "stream",
     "text": [
      "[ 1.]\n"
     ]
    }
   ],
   "source": [
    "print n2[0]*n2[0]+n2[1]*n2[1]"
   ]
  },
  {
   "cell_type": "code",
   "execution_count": 47,
   "metadata": {
    "collapsed": false
   },
   "outputs": [],
   "source": [
    "#code ends and works awesomely"
   ]
  },
  {
   "cell_type": "code",
   "execution_count": null,
   "metadata": {
    "collapsed": false
   },
   "outputs": [],
   "source": []
  },
  {
   "cell_type": "code",
   "execution_count": 48,
   "metadata": {
    "collapsed": true
   },
   "outputs": [],
   "source": [
    "#code to fit rectangle"
   ]
  },
  {
   "cell_type": "code",
   "execution_count": 50,
   "metadata": {
    "collapsed": false
   },
   "outputs": [
    {
     "name": "stdout",
     "output_type": "stream",
     "text": [
      "(700, 2)\n",
      "(900, 2)\n",
      "(450, 2)\n",
      "(450, 2)\n"
     ]
    }
   ],
   "source": [
    "# it must have four points\n",
    "\n",
    "p1= np.load('/home/saikiran/HBRS/MRC/week4/MRC_A_004/data/P1.npy')\n",
    "q1= np.load('/home/saikiran/HBRS/MRC/week4/MRC_A_004/data/Q1.npy')\n",
    "rect= np.load('/home/saikiran/HBRS/MRC/week4/MRC_A_004/data/R2.npy')\n",
    "sect= np.load('/home/saikiran/HBRS/MRC/week4/MRC_A_004/data/S2.npy')\n",
    "print p1.shape\n",
    "print q1.shape\n",
    "print rect.shape\n",
    "print sect.shape"
   ]
  },
  {
   "cell_type": "code",
   "execution_count": 51,
   "metadata": {
    "collapsed": true
   },
   "outputs": [],
   "source": [
    "sizep1toappend, sizep1columns = p1.shape\n",
    "sizeq1toappend, sizeq1columns = q1.shape\n",
    "sizerecttoappend, sizerectcolumns = rect.shape\n",
    "sizesecttoappend, sizesectcolumns = sect.shape"
   ]
  },
  {
   "cell_type": "code",
   "execution_count": 52,
   "metadata": {
    "collapsed": true
   },
   "outputs": [],
   "source": [
    "onesp1 = np.ones((sizep1toappend,1))\n",
    "zerosp1 = np.zeros((sizep1toappend,1))\n",
    "onesq1 = np.ones((sizeq1toappend,1))\n",
    "zerosq1 = np.zeros((sizeq1toappend,1))\n",
    "onesrect = np.ones((sizerecttoappend,1))\n",
    "zerosrect = np.zeros((sizerecttoappend,1))\n",
    "onessect  = np.ones((sizesecttoappend,1))\n",
    "zerossect = np.zeros((sizesecttoappend,1))"
   ]
  },
  {
   "cell_type": "code",
   "execution_count": 54,
   "metadata": {
    "collapsed": false
   },
   "outputs": [
    {
     "name": "stdout",
     "output_type": "stream",
     "text": [
      "(900, 1)\n",
      "(900, 1)\n",
      "(450, 1)\n",
      "(450, 1)\n"
     ]
    }
   ],
   "source": [
    "toinvertq1_1 = np.array(q1[:,0]*-1).reshape(sizeq1toappend,1)\n",
    "toinvertq1_2 = np.array(q1[:,1]).reshape(sizeq1toappend,1)\n",
    "print toinvertq1_1.shape\n",
    "print toinvertq1_2.shape\n",
    "toinvertsect_1 = np.array(sect[:,0]*-1).reshape(sizesecttoappend,1)\n",
    "toinvertsect_2 = np.array(sect[:,1]).reshape(sizesecttoappend,1)\n",
    "print toinvertsect_1.shape\n",
    "print toinvertsect_2.shape"
   ]
  },
  {
   "cell_type": "code",
   "execution_count": 56,
   "metadata": {
    "collapsed": false
   },
   "outputs": [],
   "source": [
    "completep1 = np.hstack((onesp1,zerosp1,p1))\n",
    "completeq1 = np.hstack((onesq1,zerosq1,toinvertq1_2, toinvertq1_1))\n",
    "completerect = np.hstack((onesrect,zerosrect,rect))\n",
    "completesect = np.hstack((onessect,zerossect,toinvertsect_2, toinvertsect_1))\n"
   ]
  },
  {
   "cell_type": "code",
   "execution_count": 57,
   "metadata": {
    "collapsed": true
   },
   "outputs": [],
   "source": [
    "Rectangle = np.vstack((completep1,completeq1,completerect,completesect))"
   ]
  },
  {
   "cell_type": "code",
   "execution_count": 58,
   "metadata": {
    "collapsed": true
   },
   "outputs": [],
   "source": [
    "#call our awesome function and vola you have your c and n again\n",
    "c3,n3 = clsq(Rectangle,2)\n"
   ]
  },
  {
   "cell_type": "code",
   "execution_count": 60,
   "metadata": {
    "collapsed": false
   },
   "outputs": [
    {
     "name": "stdout",
     "output_type": "stream",
     "text": [
      "[[-0.85530347]\n",
      " [ 0.51812738]]\n",
      "[[-0.85530347]\n",
      " [ 0.51812738]]\n"
     ]
    }
   ],
   "source": [
    "print  c3\n",
    "print n3"
   ]
  },
  {
   "cell_type": "code",
   "execution_count": 61,
   "metadata": {
    "collapsed": false
   },
   "outputs": [
    {
     "name": "stdout",
     "output_type": "stream",
     "text": [
      "[ 1.]\n"
     ]
    }
   ],
   "source": [
    "print n3[0]*n3[0]+n3[1]*n3[1]"
   ]
  },
  {
   "cell_type": "code",
   "execution_count": null,
   "metadata": {
    "collapsed": true
   },
   "outputs": [],
   "source": [
    "#Finally :)"
   ]
  }
 ],
 "metadata": {
  "kernelspec": {
   "display_name": "Python 2",
   "language": "python",
   "name": "python2"
  },
  "language_info": {
   "codemirror_mode": {
    "name": "ipython",
    "version": 2
   },
   "file_extension": ".py",
   "mimetype": "text/x-python",
   "name": "python",
   "nbconvert_exporter": "python",
   "pygments_lexer": "ipython2",
   "version": "2.7.10"
  }
 },
 "nbformat": 4,
 "nbformat_minor": 0
}
