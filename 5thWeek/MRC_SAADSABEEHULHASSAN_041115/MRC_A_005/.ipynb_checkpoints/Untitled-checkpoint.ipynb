{
 "cells": [
  {
   "cell_type": "code",
   "execution_count": 2,
   "metadata": {
    "collapsed": false
   },
   "outputs": [],
   "source": [
    "import numpy as np\n",
    "from sympy import *\n",
    "from sympy import sin, cos, Matrix\n",
    "import scipy.optimize as sp"
   ]
  },
  {
   "cell_type": "code",
   "execution_count": 4,
   "metadata": {
    "collapsed": false
   },
   "outputs": [],
   "source": [
    "radius = (3,4,5,6)\n",
    "len(radius)\n",
    "dx = 6\n",
    "dy = 4.5\n",
    "dz = 5.3\n",
    "x = Symbol('x')\n",
    "y = Symbol('y')\n",
    "z = Symbol('z')\n",
    "eq1 = x**2+y**2+(z-dz)**2 - radius[0]\n",
    "eq2 = (x-dx)**2+y**2+(z-dz)**2 - radius[1]\n",
    "eq3 = (x-dx)**2+(y-dy)**2+(z-dz)**2 - radius[2]\n",
    "eq4 = x**2+(y-dy)**2+(z-dz)**2 - radius[3]\n",
    "fofx = Matrix([[eq1],[eq2],[eq3]])\n",
    "syms = Matrix([x,y,z])"
   ]
  },
  {
   "cell_type": "code",
   "execution_count": 5,
   "metadata": {
    "collapsed": false
   },
   "outputs": [
    {
     "name": "stdout",
     "output_type": "stream",
     "text": [
      "(3, 3)\n",
      "(3, 3)\n"
     ]
    }
   ],
   "source": [
    "fdashx = fofx.jacobian(syms)\n",
    "print fdashx.shape\n",
    "num = fofx.subs([(x,0),(y,0),(z,0)])\n",
    "den = fdashx.subs([(x,0),(y,0),(z,0)])\n",
    "print den.shape"
   ]
  },
  {
   "cell_type": "code",
   "execution_count": 7,
   "metadata": {
    "collapsed": false
   },
   "outputs": [
    {
     "data": {
      "text/plain": [
       "array([[ 0.08333333, -0.08333333, -0.        ],\n",
       "       [-0.        ,  0.11111111, -0.11111111],\n",
       "       [-0.09433962, -0.        , -0.        ]])"
      ]
     },
     "execution_count": 7,
     "metadata": {},
     "output_type": "execute_result"
    }
   ],
   "source": [
    "inverseden = np.linalg.inv(den)\n",
    "inverseden   "
   ]
  },
  {
   "cell_type": "code",
   "execution_count": 8,
   "metadata": {
    "collapsed": false
   },
   "outputs": [
    {
     "data": {
      "text/plain": [
       "Matrix([\n",
       "[-2.91666666666667],\n",
       "[-2.13888888888889],\n",
       "[-2.36698113207547]])"
      ]
     },
     "execution_count": 8,
     "metadata": {},
     "output_type": "execute_result"
    }
   ],
   "source": [
    "mul = inverseden* num\n",
    "mul"
   ]
  },
  {
   "cell_type": "code",
   "execution_count": 15,
   "metadata": {
    "collapsed": false
   },
   "outputs": [
    {
     "name": "stdout",
     "output_type": "stream",
     "text": [
      "Matrix([[2.91666666666667], [2.13888888888889], [2.36698113207547]])\n"
     ]
    },
    {
     "data": {
      "text/plain": [
       "2.91666666666667"
      ]
     },
     "execution_count": 15,
     "metadata": {},
     "output_type": "execute_result"
    }
   ],
   "source": [
    "x0 = Matrix([[0],[0],[0]])\n",
    "fofx1 = x0 - mul\n",
    "print fofx1\n",
    "fofx1[0]"
   ]
  },
  {
   "cell_type": "code",
   "execution_count": 16,
   "metadata": {
    "collapsed": false
   },
   "outputs": [],
   "source": [
    "num = fofx.subs([(x,fofx1[0]),(y,fofx1[1]),(z,fofx1[2])])\n",
    "den = fdashx.subs([(x,fofx1[0]),(y,fofx1[1]),(z,fofx1[2])])"
   ]
  },
  {
   "cell_type": "code",
   "execution_count": 17,
   "metadata": {
    "collapsed": false
   },
   "outputs": [
    {
     "name": "stdout",
     "output_type": "stream",
     "text": [
      "Matrix([[18.6843898030581], [18.6843898030581], [18.6843898030581]])\n",
      "Matrix([[5.83333333333333, 4.27777777777778, -5.86603773584906], [-6.16666666666667, 4.27777777777778, -5.86603773584906], [-6.16666666666667, -4.72222222222222, -5.86603773584906]])\n"
     ]
    }
   ],
   "source": [
    "print num\n",
    "print den"
   ]
  },
  {
   "cell_type": "code",
   "execution_count": 18,
   "metadata": {
    "collapsed": false
   },
   "outputs": [
    {
     "data": {
      "text/plain": [
       "array([[  8.33333333e-02,  -8.33333333e-02,   9.00180831e-18],\n",
       "       [ -0.00000000e+00,   1.11111111e-01,  -1.11111111e-01],\n",
       "       [ -8.76040885e-02,  -1.84152739e-03,  -8.10272050e-02]])"
      ]
     },
     "execution_count": 18,
     "metadata": {},
     "output_type": "execute_result"
    }
   ],
   "source": [
    "inverseden = np.linalg.inv(den)\n",
    "inverseden"
   ]
  },
  {
   "cell_type": "code",
   "execution_count": 19,
   "metadata": {
    "collapsed": false
   },
   "outputs": [
    {
     "data": {
      "text/plain": [
       "Matrix([\n",
       "[8.34327110129904e-16],\n",
       "[                   0],\n",
       "[   -3.18518063545216]])"
      ]
     },
     "execution_count": 19,
     "metadata": {},
     "output_type": "execute_result"
    }
   ],
   "source": [
    "mul = inverseden* num\n",
    "mul"
   ]
  },
  {
   "cell_type": "code",
   "execution_count": 21,
   "metadata": {
    "collapsed": false
   },
   "outputs": [
    {
     "name": "stdout",
     "output_type": "stream",
     "text": [
      "Matrix([[2.91666666666667], [2.13888888888889], [5.55216176752764]])\n",
      "Matrix([[2.91666666666667], [2.13888888888889], [2.36698113207547]])\n"
     ]
    }
   ],
   "source": [
    "fofx2 = fofx1-mul\n",
    "print fofx2\n",
    "print fofx1\n"
   ]
  },
  {
   "cell_type": "code",
   "execution_count": 25,
   "metadata": {
    "collapsed": false
   },
   "outputs": [
    {
     "name": "stdout",
     "output_type": "stream",
     "text": [
      "Matrix([[2.91666666666667], [2.13888888888889], [-14.5646382135550]])\n",
      "Matrix([[2.91666666666667], [2.13888888888889], [5.55216176752764]])\n",
      "Matrix([[2.91666666666667], [2.13888888888889], [2.36698113207547]])\n"
     ]
    }
   ],
   "source": [
    "num = fofx.subs([(x,fofx2[0]),(y,fofx2[1]),(z,fofx2[2])])\n",
    "den = fdashx.subs([(x,fofx2[0]),(y,fofx2[1]),(z,fofx2[2])])\n",
    "inverseden = np.linalg.inv(den)\n",
    "mul = inverseden* num\n",
    "fofx3 = fofx2-mul\n",
    "print fofx3\n",
    "print fofx2\n",
    "print fofx1"
   ]
  },
  {
   "cell_type": "code",
   "execution_count": 27,
   "metadata": {
    "collapsed": false
   },
   "outputs": [
    {
     "data": {
      "text/plain": [
       "[(2.91666666666667, 2.13888888888889, 5.3 - 3.17518347870746*I),\n",
       " (2.91666666666667, 2.13888888888889, 5.3 + 3.17518347870746*I)]"
      ]
     },
     "execution_count": 27,
     "metadata": {},
     "output_type": "execute_result"
    }
   ],
   "source": [
    "solve([eq1,eq2,eq3],x,y,z)"
   ]
  },
  {
   "cell_type": "code",
   "execution_count": 29,
   "metadata": {
    "collapsed": false
   },
   "outputs": [
    {
     "data": {
      "text/plain": [
       "Matrix([\n",
       "[ 2.91666666666667],\n",
       "[ 2.13888888888889],\n",
       "[-4.37855686819375]])"
      ]
     },
     "execution_count": 29,
     "metadata": {},
     "output_type": "execute_result"
    }
   ],
   "source": [
    "num = fofx.subs([(x,fofx3[0]),(y,fofx3[1]),(z,fofx3[2])])\n",
    "den = fdashx.subs([(x,fofx3[0]),(y,fofx3[1]),(z,fofx3[2])])\n",
    "inverseden = np.linalg.inv(den)\n",
    "mul = inverseden* num\n",
    "fofx4 = fofx3-mul\n",
    "fofx4"
   ]
  },
  {
   "cell_type": "code",
   "execution_count": 30,
   "metadata": {
    "collapsed": false
   },
   "outputs": [
    {
     "data": {
      "text/plain": [
       "Matrix([\n",
       "[ 2.91666666666667],\n",
       "[ 2.13888888888889],\n",
       "[0.981552835520818]])"
      ]
     },
     "execution_count": 30,
     "metadata": {},
     "output_type": "execute_result"
    }
   ],
   "source": [
    "num = fofx.subs([(x,fofx4[0]),(y,fofx4[1]),(z,fofx4[2])])\n",
    "den = fdashx.subs([(x,fofx4[0]),(y,fofx4[1]),(z,fofx4[2])])\n",
    "inverseden = np.linalg.inv(den)\n",
    "mul = inverseden* num\n",
    "fofx5 = fofx4-mul\n",
    "fofx5"
   ]
  },
  {
   "cell_type": "code",
   "execution_count": 31,
   "metadata": {
    "collapsed": false
   },
   "outputs": [
    {
     "data": {
      "text/plain": [
       "Matrix([\n",
       "[2.91666666666667],\n",
       "[2.13888888888889],\n",
       "[ 4.3080698613833]])"
      ]
     },
     "execution_count": 31,
     "metadata": {},
     "output_type": "execute_result"
    }
   ],
   "source": [
    "num = fofx.subs([(x,fofx5[0]),(y,fofx5[1]),(z,fofx5[2])])\n",
    "den = fdashx.subs([(x,fofx5[0]),(y,fofx5[1]),(z,fofx5[2])])\n",
    "inverseden = np.linalg.inv(den)\n",
    "mul = inverseden* num\n",
    "fofx6 = fofx5-mul\n",
    "fofx6"
   ]
  },
  {
   "cell_type": "code",
   "execution_count": 32,
   "metadata": {
    "collapsed": false
   },
   "outputs": [
    {
     "data": {
      "text/plain": [
       "Matrix([\n",
       "[2.91666666666667],\n",
       "[2.13888888888889],\n",
       "[9.88594026402306]])"
      ]
     },
     "execution_count": 32,
     "metadata": {},
     "output_type": "execute_result"
    }
   ],
   "source": [
    "num = fofx.subs([(x,fofx6[0]),(y,fofx6[1]),(z,fofx6[2])])\n",
    "den = fdashx.subs([(x,fofx6[0]),(y,fofx6[1]),(z,fofx6[2])])\n",
    "inverseden = np.linalg.inv(den)\n",
    "mul = inverseden* num\n",
    "fofx7 = fofx6-mul\n",
    "fofx7"
   ]
  },
  {
   "cell_type": "code",
   "execution_count": 33,
   "metadata": {
    "collapsed": false
   },
   "outputs": [
    {
     "data": {
      "text/plain": [
       "Matrix([\n",
       "[2.91666666666667],\n",
       "[2.13888888888889],\n",
       "[6.49376369417925]])"
      ]
     },
     "execution_count": 33,
     "metadata": {},
     "output_type": "execute_result"
    }
   ],
   "source": [
    "num = fofx.subs([(x,fofx7[0]),(y,fofx7[1]),(z,fofx7[2])])\n",
    "den = fdashx.subs([(x,fofx7[0]),(y,fofx7[1]),(z,fofx7[2])])\n",
    "inverseden = np.linalg.inv(den)\n",
    "mul = inverseden* num\n",
    "fofx8 = fofx7-mul\n",
    "fofx8"
   ]
  },
  {
   "cell_type": "code",
   "execution_count": 34,
   "metadata": {
    "collapsed": false
   },
   "outputs": [
    {
     "data": {
      "text/plain": [
       "Matrix([\n",
       "[2.91666666666667],\n",
       "[2.13888888888889],\n",
       "[1.67419096923196]])"
      ]
     },
     "execution_count": 34,
     "metadata": {},
     "output_type": "execute_result"
    }
   ],
   "source": [
    "num = fofx.subs([(x,fofx8[0]),(y,fofx8[1]),(z,fofx8[2])])\n",
    "den = fdashx.subs([(x,fofx8[0]),(y,fofx8[1]),(z,fofx8[2])])\n",
    "inverseden = np.linalg.inv(den)\n",
    "mul = inverseden* num\n",
    "fofx9 = fofx8-mul\n",
    "fofx9"
   ]
  },
  {
   "cell_type": "code",
   "execution_count": 35,
   "metadata": {
    "collapsed": false
   },
   "outputs": [
    {
     "data": {
      "text/plain": [
       "Matrix([\n",
       "[2.91666666666667],\n",
       "[2.13888888888889],\n",
       "[ 4.8773769415135]])"
      ]
     },
     "execution_count": 35,
     "metadata": {},
     "output_type": "execute_result"
    }
   ],
   "source": [
    "num = fofx.subs([(x,fofx9[0]),(y,fofx9[1]),(z,fofx9[2])])\n",
    "den = fdashx.subs([(x,fofx9[0]),(y,fofx9[1]),(z,fofx9[2])])\n",
    "inverseden = np.linalg.inv(den)\n",
    "mul = inverseden* num\n",
    "fofx10 = fofx9-mul\n",
    "fofx10"
   ]
  },
  {
   "cell_type": "code",
   "execution_count": 36,
   "metadata": {
    "collapsed": false
   },
   "outputs": [
    {
     "data": {
      "text/plain": [
       "Matrix([\n",
       "[2.91666666666667],\n",
       "[2.13888888888889],\n",
       "[ 17.016326966822]])"
      ]
     },
     "execution_count": 36,
     "metadata": {},
     "output_type": "execute_result"
    }
   ],
   "source": [
    "num = fofx.subs([(x,fofx10[0]),(y,fofx10[1]),(z,fofx10[2])])\n",
    "den = fdashx.subs([(x,fofx10[0]),(y,fofx10[1]),(z,fofx10[2])])\n",
    "inverseden = np.linalg.inv(den)\n",
    "mul = inverseden* num\n",
    "fofx11 = fofx10-mul\n",
    "fofx11"
   ]
  },
  {
   "cell_type": "code",
   "execution_count": null,
   "metadata": {
    "collapsed": true
   },
   "outputs": [],
   "source": []
  }
 ],
 "metadata": {
  "kernelspec": {
   "display_name": "Python 2",
   "language": "python",
   "name": "python2"
  },
  "language_info": {
   "codemirror_mode": {
    "name": "ipython",
    "version": 2
   },
   "file_extension": ".py",
   "mimetype": "text/x-python",
   "name": "python",
   "nbconvert_exporter": "python",
   "pygments_lexer": "ipython2",
   "version": "2.7.10"
  }
 },
 "nbformat": 4,
 "nbformat_minor": 0
}
