{
 "cells": [
  {
   "cell_type": "markdown",
   "metadata": {},
   "source": [
    "<style type=\"text/css\">\n",
    ".time_spent {\n",
    "    width: 3em;\n",
    "    border-style: none;\n",
    "    background-color: silver;\n",
    "    font-weight: bold;\n",
    "    padding-left: 5px;\n",
    "}\n",
    "</style>"
   ]
  },
  {
   "cell_type": "markdown",
   "metadata": {},
   "source": [
    "# Mathematics for Robotics and Control - Assignment 7: Ordinary Differential Equations"
   ]
  },
  {
   "cell_type": "markdown",
   "metadata": {},
   "source": [
    "For this assignment, you will be working with symbolic mathematics using the SymPy package for Python. In order to be able to work with the package efficiently, please familiarize yourself with SymPy by working through the tutorial:\n",
    "\n",
    "[SymPy Tutorial](http://docs.sympy.org/dev/tutorial/tutorial.en.html#tutorial)\n",
    "        \n",
    "Also, make sure you know how SymPy differes from other CAS like Maple or Mathematica, which you may be familiar with. This information is detailed in the following document:\n",
    "    \n",
    "[SymPy Gotchas](http://docs.sympy.org/dev/gotchas.html)\n",
    "        \n",
    "There is also an FAQ:\n",
    "    \n",
    "[SymPy FAQ](https://github.com/sympy/sympy/wiki/Faq)\n"
   ]
  },
  {
   "cell_type": "markdown",
   "metadata": {},
   "source": [
    "Also, be sure to read the documentation/help on SymPy's ODE module. Simply evaluate the code in the next cell to obtain said documentation. Note that using ? allows you to obtain help on any function, module etc. when used in IPython."
   ]
  },
  {
   "cell_type": "code",
   "execution_count": 2,
   "metadata": {
    "collapsed": false
   },
   "outputs": [
    {
     "name": "stdout",
     "output_type": "stream",
     "text": [
      "Object `sympy.ode` not found.\n"
     ]
    }
   ],
   "source": [
    "from sympy import*\n",
    "?sympy.ode\n",
    "from sympy import Function, dsolve, Eq, Derivative, sin, cos, symbols\n",
    "from sympy.abc import x\n",
    "import numpy as np\n",
    "from sympy.mpmath import *\n",
    "from sympy import *\n",
    "from sympy.abc import x,y\n"
   ]
  },
  {
   "cell_type": "markdown",
   "metadata": {},
   "source": [
    "Let us now start the assignment by examining some differential equations. First, have a look at the following quick example below to see how to enter code into the IPython notebook and how to work with SymPy."
   ]
  },
  {
   "cell_type": "code",
   "execution_count": 2,
   "metadata": {
    "collapsed": false
   },
   "outputs": [],
   "source": [
    "# Enable pretty printing\n",
    "sympy.init_printing(use_latex=True)"
   ]
  },
  {
   "cell_type": "code",
   "execution_count": null,
   "metadata": {
    "collapsed": true
   },
   "outputs": [],
   "source": [
    "\n",
    "from sympy import *\n",
    "from sympy.abc import x,y\n",
    "\n",
    "t = symbols('x')\n",
    "\n",
    "y = Function('y')(t)\n",
    "y_ = Derivative(y, t)\n",
    "\n",
    "dsolve(y * sin(x) + exp(x) - y_, y)\n"
   ]
  },
  {
   "cell_type": "markdown",
   "metadata": {},
   "source": [
    "\\begin{align}\n",
    "\n",
    "$ f(x)=(x+a)(x+b) $ \n",
    "\n",
    "$ y'= \\int\\frac{1}{2}dx $\n",
    "\n",
    "$ y'-5=\\int\\frac{1}{2} + e^xdx $\n",
    "\n",
    "\\end{align}\n",
    "\n"
   ]
  },
  {
   "cell_type": "markdown",
   "metadata": {},
   "source": [
    "For your first assignment, solve the following three ODEs *by hand* and verify your results via SymPy. Please include the steps of your solutions in the input cell below using TeX syntax. You can find an introduction to mathematical expressions in LaTeX [here](http://en.wikibooks.org/wiki/LaTeX/Mathematics). In order for the IPython notebook to evaluate your mathematical expressions, enclose them in \\$, i.e.\n",
    "\n",
    "    $ \\sum_{i=1}^{10} t_i $ \n",
    "\n",
    "will display the following expression: $\\sum_{i=1}^{10} t_i$"
   ]
  },
  {
   "cell_type": "markdown",
   "metadata": {},
   "source": [
    "---"
   ]
  },
  {
   "cell_type": "markdown",
   "metadata": {},
   "source": [
    "#### Assignment 7.1: Solve the following ordinary differential equations by hand and verify your results using SymPy."
   ]
  },
  {
   "cell_type": "markdown",
   "metadata": {},
   "source": [
    "Equation 1.1: $y^\\prime = 5 \\cdot y$"
   ]
  },
  {
   "cell_type": "markdown",
   "metadata": {},
   "source": [
    "*Insert your solution for Equation 1.1 here*"
   ]
  },
  {
   "cell_type": "code",
   "execution_count": 7,
   "metadata": {
    "collapsed": false
   },
   "outputs": [
    {
     "name": "stdout",
     "output_type": "stream",
     "text": [
      "y(x) == C1*exp(5*x)\n"
     ]
    }
   ],
   "source": [
    "x = symbols('x')\n",
    "\n",
    "y = Function('y')(x)\n",
    "y_ = Derivative(y, x)\n",
    "\n",
    "sol = dsolve(y_ - 5*y, y)\n",
    "\n",
    "print sol"
   ]
  },
  {
   "cell_type": "code",
   "execution_count": null,
   "metadata": {
    "collapsed": false
   },
   "outputs": [],
   "source": [
    "# Insert code to verify your solution for Equation 1.1 here and evaluate it"
   ]
  },
  {
   "cell_type": "markdown",
   "metadata": {},
   "source": [
    "Equation 1.2: $\\frac{\\mathrm d y}{\\mathrm d x} = -2 \\cdot x \\cdot y$"
   ]
  },
  {
   "cell_type": "markdown",
   "metadata": {},
   "source": [
    "*Insert your solution for Equation 1.2 here*"
   ]
  },
  {
   "cell_type": "code",
   "execution_count": 8,
   "metadata": {
    "collapsed": false
   },
   "outputs": [
    {
     "name": "stdout",
     "output_type": "stream",
     "text": [
      "y(x) == C1*exp(-x**2)\n"
     ]
    }
   ],
   "source": [
    "x = symbols('x')\n",
    "\n",
    "y = Function('y')(x)\n",
    "y_ = Derivative(y, x)\n",
    "\n",
    "sol = dsolve(y_ + 2*x*y, y)\n",
    "\n",
    "print sol"
   ]
  },
  {
   "cell_type": "code",
   "execution_count": null,
   "metadata": {
    "collapsed": false
   },
   "outputs": [],
   "source": [
    "# Insert code to verify your solution for Equation 1.2 here and evaluate it"
   ]
  },
  {
   "cell_type": "markdown",
   "metadata": {},
   "source": [
    "Equation 1.3: $\\frac{\\mathrm d y}{\\mathrm d t} = y^2$"
   ]
  },
  {
   "cell_type": "code",
   "execution_count": 10,
   "metadata": {
    "collapsed": false
   },
   "outputs": [
    {
     "name": "stdout",
     "output_type": "stream",
     "text": [
      "y(x) == -1/(C1 + x)\n"
     ]
    }
   ],
   "source": [
    "# Insert code to verify your solution for Equation 1.3 here and evaluate it\n",
    "x = symbols('x')\n",
    "\n",
    "y = Function('y')(x)\n",
    "y_ = Derivative(y, x)\n",
    "\n",
    "sol = dsolve(y_ - y**2, y)\n",
    "\n",
    "print sol"
   ]
  },
  {
   "cell_type": "markdown",
   "metadata": {},
   "source": [
    "*Assignment 7.1 took me* <input class=\"time_spent\" name=\"ex71_time_spent\" /> *minutes.*"
   ]
  },
  {
   "cell_type": "markdown",
   "metadata": {},
   "source": [
    "---"
   ]
  },
  {
   "cell_type": "markdown",
   "metadata": {},
   "source": [
    "#### Assignment 7.2: Determine if the following equations are linear and insert your solutions below."
   ]
  },
  {
   "cell_type": "markdown",
   "metadata": {},
   "source": [
    " *Note: simply stating that an equation is linear or not is not sufficient, please provide arguments/proof as to why this is the case.*"
   ]
  },
  {
   "cell_type": "markdown",
   "metadata": {},
   "source": [
    "1. $y^\\prime = sin(x) \\cdot y + e^x$\n",
    "2. $y^\\prime + x \\cdot y = e^x \\cdot y$\n",
    "3. $y^\\prime + \\frac{x}{y} = 0$\n",
    "4. $x \\cdot y^\\prime + y = \\sqrt{y}$"
   ]
  },
  {
   "cell_type": "markdown",
   "metadata": {},
   "source": [
    "*Assignment 7.2 took me* <input class=\"time_spent\" name=\"ex72_time_spent\" /> *minutes.*"
   ]
  },
  {
   "cell_type": "code",
   "execution_count": null,
   "metadata": {
    "collapsed": true
   },
   "outputs": [],
   "source": []
  },
  {
   "cell_type": "markdown",
   "metadata": {},
   "source": [
    "---"
   ]
  },
  {
   "cell_type": "markdown",
   "metadata": {},
   "source": [
    "#### Assignment 7.3: Solve the following ordinary differential equations and specify an integrating factor. Insert your solutions below."
   ]
  },
  {
   "cell_type": "markdown",
   "metadata": {},
   "source": [
    "[Wikipedia: Integrating Factor](http://en.wikipedia.org/wiki/Integrating_factor)\n",
    "\n",
    "[Tutorial on how to use the integrating factor method to solve ODEs](http://www.cse.salford.ac.uk/profiles/gsmcdonald/H-Tutorials/ordinary-differential-equations-integrating-factor.pdf) (PDF)"
   ]
  },
  {
   "cell_type": "markdown",
   "metadata": {},
   "source": [
    "1. $y^\\prime = -3 \\cdot y + 6$\n",
    "2. $y^\\prime + \\frac{4}{x} \\cdot y = x^4$"
   ]
  },
  {
   "cell_type": "code",
   "execution_count": 11,
   "metadata": {
    "collapsed": false
   },
   "outputs": [
    {
     "name": "stdout",
     "output_type": "stream",
     "text": [
      "y(x) == C1*exp(-3*x) + 2\n"
     ]
    }
   ],
   "source": [
    "x = symbols('x')\n",
    "\n",
    "y = Function('y')(x)\n",
    "y_ = Derivative(y, x)\n",
    "\n",
    "sol_1 = dsolve(y_ + 3*y -6, y)\n",
    "print sol_1\n"
   ]
  },
  {
   "cell_type": "code",
   "execution_count": 10,
   "metadata": {
    "collapsed": false
   },
   "outputs": [
    {
     "name": "stdout",
     "output_type": "stream",
     "text": [
      "y(x) == x**4*(C1 + x)\n"
     ]
    }
   ],
   "source": [
    "x = symbols('x')\n",
    "\n",
    "y = Function('y')(x)\n",
    "y_ = Derivative(y, x)\n",
    "\n",
    "sol_2 = dsolve(y_ - (4/x)*y -x**4, y)\n",
    "\n",
    "print sol_2"
   ]
  },
  {
   "cell_type": "markdown",
   "metadata": {},
   "source": [
    "*Assignment 7.3 took me* <input class=\"time_spent\" name=\"ex73_time_spent\" /> *minutes.*"
   ]
  },
  {
   "cell_type": "markdown",
   "metadata": {},
   "source": [
    "---"
   ]
  },
  {
   "cell_type": "markdown",
   "metadata": {},
   "source": [
    "#### Assignment 7.4: Solve the following differental equations"
   ]
  },
  {
   "cell_type": "markdown",
   "metadata": {},
   "source": [
    "Remember that a second order differential equation $y^{\\prime \\prime} + a_1 \\cdot y^\\prime + a_0 \\cdot y = 0$ with constants $a_{0, 1}$ corresponds to the characteristic equation $\\lambda^2 + a_1 \\cdot \\lambda + a_0 = 0$, which can be factored into $(\\lambda - \\lambda_1) \\cdot (\\lambda - \\lambda_2) = 0$. This is useful since the general solution of $y^{\\prime \\prime} + a_1 \\cdot y^\\prime + a_0 \\cdot y = 0$ can be obtained directly by determining the roots $\\lambda_1$ and $\\lambda_2$ if the coefficients are constant and the differential equation is linear. Determine the roots of the following differential equations and specify their solutions. See the Wikipedia article on the [characteristic equation](http://en.wikipedia.org/wiki/Characteristic_equation_(calculus)) for the three distinctive cases that determine how to obtain the solution based on what the roots are.\n",
    "\n",
    "Insert your solutions below and include code to proof your solutions are correct. Hint: use the sympy.ode.checkodesol function to validate your results."
   ]
  },
  {
   "cell_type": "markdown",
   "metadata": {},
   "source": [
    "1. $y^{\\prime \\prime} - y^\\prime - 2 \\cdot y = 0$\n",
    "2. $y^{\\prime \\prime} - 3 \\cdot y^\\prime + 4 \\cdot y = 0$\n",
    "3. $y^{\\prime \\prime} + 4 \\cdot y = 0$"
   ]
  },
  {
   "cell_type": "code",
   "execution_count": 13,
   "metadata": {
    "collapsed": false
   },
   "outputs": [
    {
     "name": "stdout",
     "output_type": "stream",
     "text": [
      "y(x) == C1*exp(-x) + C2*exp(2*x)\n"
     ]
    }
   ],
   "source": [
    "# Include code here to show that your solutions are correct.\n",
    "# Solution for equation 1\n",
    "x = symbols('x')\n",
    "\n",
    "y = Function('y')(x)\n",
    "y_ = Derivative(y, x)\n",
    "y__ = Derivative(y_, x)\n",
    "\n",
    "sol = dsolve(y__ - y_ -2*y, y)\n",
    "\n",
    "print sol"
   ]
  },
  {
   "cell_type": "code",
   "execution_count": 14,
   "metadata": {
    "collapsed": false
   },
   "outputs": [
    {
     "name": "stdout",
     "output_type": "stream",
     "text": [
      "y(x) == (C1*sin(sqrt(7)*x/2) + C2*cos(sqrt(7)*x/2))*exp(x)**(3/2)\n"
     ]
    }
   ],
   "source": [
    "# Solution for equation 2\n",
    "x = symbols('x')\n",
    "\n",
    "y = Function('y')(x)\n",
    "y_ = Derivative(y, x)\n",
    "y__ = Derivative(y_, x)\n",
    "\n",
    "sol = dsolve(y__ - 3*y_ +4*y, y)\n",
    "\n",
    "print sol"
   ]
  },
  {
   "cell_type": "code",
   "execution_count": 16,
   "metadata": {
    "collapsed": false
   },
   "outputs": [
    {
     "name": "stdout",
     "output_type": "stream",
     "text": [
      "y(x) == C1*sin(2*x) + C2*cos(2*x)\n"
     ]
    }
   ],
   "source": [
    "# Solution for equation 3\n",
    "x = symbols('x')\n",
    "\n",
    "y = Function('y')(x)\n",
    "y_ = Derivative(y, x)\n",
    "y__ = Derivative(y_, x)\n",
    "\n",
    "sol = dsolve(y__ +4*y,y)\n",
    "\n",
    "print sol"
   ]
  },
  {
   "cell_type": "markdown",
   "metadata": {},
   "source": [
    "*Assignment 7.4 took me* <input class=\"time_spent\" name=\"ex74_time_spent\" /> *minutes.*"
   ]
  },
  {
   "cell_type": "markdown",
   "metadata": {},
   "source": [
    "---"
   ]
  },
  {
   "cell_type": "markdown",
   "metadata": {},
   "source": [
    "<script type=\"text/javascript\">\n",
    "    function validTime(minutes) { \n",
    "        var numberIsSane = isFinite(parseInt(minutes, 10)) && (parseFloat(minutes, 10) == parseInt(minutes, 10)); \n",
    "        var numberInRange = ( (minutes >= 1) && (minutes < 60*24*7) );\n",
    "        return (numberIsSane && numberInRange);\n",
    "    }\n",
    "    function create_time_file() {\n",
    "        var kernel = IPython.notebook.kernel;\n",
    "        if (kernel) {\n",
    "            var studentName = $('#usrname').val();\n",
    "            var filename = 'MRC_' + encodeURIComponent(studentName.replace(' ', '_')) + '_20131121.txt'\n",
    "            var inputElements = $(':text.time_spent');\n",
    "            var timings = new Array();\n",
    "            if (inputElements) {\n",
    "                var allTimesAreValid = true;\n",
    "                var invalidTimeValue = null;\n",
    "                inputElements.each(function() {\n",
    "                    if (!validTime(this.value)) {\n",
    "                        allTimesAreValid = false;\n",
    "                        invalidTimeValue = this.value;\n",
    "                        return;\n",
    "                    }\n",
    "                    timings.push(this.value);\n",
    "                });\n",
    "                if (!allTimesAreValid) {\n",
    "                    alert('Unable to save assignment times, invalid time value <' + invalidTimeValue + '>');\n",
    "                    return;\n",
    "                }\n",
    "                if (!studentName) {\n",
    "                    alert('Please include your name in the submission');\n",
    "                    return;\n",
    "                }\n",
    "                if (confirm('Here are the timings I am going to save:\\n\\n' + timings.join(\" minutes\\n\") + ' minutes\\n\\nFilename: ' + filename + '\\n\\nDo you want me to continue?')) {\n",
    "                    var pyCode = [\n",
    "                        'with open(\"' + filename + '\", \"w\") as timings_file:',\n",
    "                        'print >>timings_file, \"NAME:\", \"' + studentName + '\"',\n",
    "                        'print >>timings_file, \"ASSIGNMENT TIMES:\"'\n",
    "                    ];\n",
    "                    timings.forEach(function(minutesTaken, assignmentIndex, arr) {\n",
    "                        pyCode.push('print >>timings_file, \"{0:03d}: {1:05d}\".format(' + assignmentIndex + ', ' + minutesTaken + ')');\n",
    "                    });\n",
    "                    kernel.execute(pyCode.join('\\n    '));\n",
    "                }\n",
    "            }\n",
    "        }\n",
    "        else {\n",
    "              alert('Unable to save, please manually create a file containing the times spent working on the assignments');\n",
    "        }\n",
    "    }\n",
    "</script>\n",
    "\n",
    "*Use this button to create a .txt file containing the time in minutes you spent working on the assignments. Make sure to include your name in the textbox below. The file will be created in the current directory.*\n",
    "\n",
    "\n",
    "Student's name:\n",
    "\n",
    "<input type=\"text\" id=\"usrname\" name=\"student_name\" />\n",
    "\n",
    "<input type=\"button\" onclick=\"javascript:create_time_file()\" value=\"Save timings\" />"
   ]
  }
 ],
 "metadata": {
  "kernelspec": {
   "display_name": "Python 2",
   "language": "python",
   "name": "python2"
  },
  "language_info": {
   "codemirror_mode": {
    "name": "ipython",
    "version": 2
   },
   "file_extension": ".py",
   "mimetype": "text/x-python",
   "name": "python",
   "nbconvert_exporter": "python",
   "pygments_lexer": "ipython2",
   "version": "2.7.10"
  }
 },
 "nbformat": 4,
 "nbformat_minor": 0
}
