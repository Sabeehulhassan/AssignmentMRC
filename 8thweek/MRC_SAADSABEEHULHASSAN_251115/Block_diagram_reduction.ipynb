{
 "cells": [
  {
   "cell_type": "code",
   "execution_count": null,
   "metadata": {
    "collapsed": true
   },
   "outputs": [],
   "source": [
    "#Team Saikiran and Sabeeh"
   ]
  },
  {
   "cell_type": "code",
   "execution_count": 1,
   "metadata": {
    "collapsed": true
   },
   "outputs": [],
   "source": [
    "import numpy as np\n",
    "import sympy as sp"
   ]
  },
  {
   "cell_type": "code",
   "execution_count": 2,
   "metadata": {
    "collapsed": true
   },
   "outputs": [],
   "source": [
    "def parallel(a,b):\n",
    "    return a+b"
   ]
  },
  {
   "cell_type": "code",
   "execution_count": 3,
   "metadata": {
    "collapsed": true
   },
   "outputs": [],
   "source": [
    "def series(a,b):\n",
    "    return a*b"
   ]
  },
  {
   "cell_type": "code",
   "execution_count": 4,
   "metadata": {
    "collapsed": true
   },
   "outputs": [],
   "source": [
    "def feedback(a,b,parameter):\n",
    "    if parameter == 'negative':\n",
    "        return a/(1+(a*b))\n",
    "    if parameter == 'positive':\n",
    "        return a/(1-(a*b))"
   ]
  },
  {
   "cell_type": "code",
   "execution_count": 5,
   "metadata": {
    "collapsed": true
   },
   "outputs": [],
   "source": [
    "def shiftBefore(a,b,parameter):\n",
    "    if parameter == 'without':\n",
    "        return b/a\n",
    "    if parameter == 'with':\n",
    "        return b*a\n",
    "        "
   ]
  },
  {
   "cell_type": "code",
   "execution_count": 6,
   "metadata": {
    "collapsed": true
   },
   "outputs": [],
   "source": [
    "sp.init_printing(use_latex=True)"
   ]
  },
  {
   "cell_type": "markdown",
   "metadata": {
    "collapsed": true
   },
   "source": [
    "Solution for problem-1\n",
    "    "
   ]
  },
  {
   "cell_type": "code",
   "execution_count": 46,
   "metadata": {
    "collapsed": false
   },
   "outputs": [
    {
     "name": "stdout",
     "output_type": "stream",
     "text": [
      "                 G₆⋅(G₄ + G₅⋅(G₂ + G₃))                \n",
      "───────────────────────────────────────────────────────\n",
      "G₆⋅G₇⋅(G₄ + G₅⋅(G₂ + G₃)) + (G₆ + 1)⋅(G₁⋅(G₂ + G₃) + 1)\n"
     ]
    }
   ],
   "source": [
    "G1,G2,G3,G4,G5,G6,G7 = sp.symbols('G1,G2,G3,G4,G5,G6,G7')\n",
    "block1 = parallel(G2,G3)\n",
    "#print block1\n",
    "block1BeforeG4 =  shiftBefore(block1,G4,\"without\")\n",
    "feedback1 = feedback(block1,G1,\"negative\")\n",
    "#sp.pprint(feedback1)\n",
    "block2 = parallel(G5,block1BeforeG4)\n",
    "#sp.pprint(block2)\n",
    "feedback2 = feedback(G6,1,\"negative\")\n",
    "#sp.pprint(feedback2)\n",
    "initialBlock = series(feedback1,block2)\n",
    "#sp.pprint(initialBlock)\n",
    "completeBlock = series(initialBlock,feedback2)\n",
    "#sp.pprint(completeBlock)\n",
    "completeBlock = sp.simplify(completeBlock)\n",
    "#sp.pprint(completeBlock)\n",
    "transferFunction = feedback(completeBlock,G7,'negative')\n",
    "#sp.pprint(transferFunction)\n",
    "transferFunction = sp.simplify(transferFunction)\n",
    "sp.pprint(transferFunction)"
   ]
  },
  {
   "cell_type": "markdown",
   "metadata": {},
   "source": [
    "---"
   ]
  },
  {
   "cell_type": "markdown",
   "metadata": {
    "collapsed": true
   },
   "source": [
    "Solution for problem-2"
   ]
  },
  {
   "cell_type": "code",
   "execution_count": 45,
   "metadata": {
    "collapsed": false
   },
   "outputs": [
    {
     "name": "stdout",
     "output_type": "stream",
     "text": [
      "                 (JS)⁻¹⋅G_e(S)⋅K_A⋅K_T                 \n",
      "───────────────────────────────────────────────────────\n",
      "                          ⎛ (JS)⁻¹⋅G_e(S)⋅K_B⋅K_T     ⎞\n",
      "((JS)⁻¹⋅(K_F + V(S)) + 1)⋅⎜─────────────────────── + 1⎟\n",
      "                          ⎝(JS)⁻¹⋅(K_F + V(S)) + 1    ⎠\n"
     ]
    }
   ],
   "source": [
    "G_e,K_T,K_A,V,Jinv,K_F,K_B = sp.symbols('G_e(S),K_T,K_A,V(S),(JS)^-1,K_F,K_B')\n",
    "block1 = series(G_e,K_T)\n",
    "#sp.pprint(block1)\n",
    "temp = parallel(V,K_F)\n",
    "feedback1 = feedback(Jinv,temp,'negative')\n",
    "#sp.pprint(feedback1)\n",
    "block2 = series(block1,feedback1)\n",
    "#sp.pprint(block2)\n",
    "feedback2 = feedback(block2,K_B,'negative')\n",
    "#sp.pprint(feedback2)\n",
    "transferFunction = series(feedback2,K_A)\n",
    "sp.simplify(transferFunction)\n",
    "sp.pprint(transferFunction)"
   ]
  },
  {
   "cell_type": "code",
   "execution_count": null,
   "metadata": {
    "collapsed": true
   },
   "outputs": [],
   "source": []
  }
 ],
 "metadata": {
  "kernelspec": {
   "display_name": "Python 2",
   "language": "python",
   "name": "python2"
  },
  "language_info": {
   "codemirror_mode": {
    "name": "ipython",
    "version": 2
   },
   "file_extension": ".py",
   "mimetype": "text/x-python",
   "name": "python",
   "nbconvert_exporter": "python",
   "pygments_lexer": "ipython2",
   "version": "2.7.10"
  }
 },
 "nbformat": 4,
 "nbformat_minor": 0
}
